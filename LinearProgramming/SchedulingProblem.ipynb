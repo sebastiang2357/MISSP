{
  "nbformat": 4,
  "nbformat_minor": 0,
  "metadata": {
    "kernelspec": {
      "display_name": "Python 3",
      "language": "python",
      "name": "python3"
    },
    "language_info": {
      "codemirror_mode": {
        "name": "ipython",
        "version": 3
      },
      "file_extension": ".py",
      "mimetype": "text/x-python",
      "name": "python",
      "nbconvert_exporter": "python",
      "pygments_lexer": "ipython3",
      "version": "3.8.3"
    },
    "colab": {
      "name": "SchedulingProblem.ipynb",
      "provenance": []
    }
  },
  "cells": [
    {
      "cell_type": "markdown",
      "metadata": {
        "id": "nHQXwVghy-ei"
      },
      "source": [
        "#**Zajęcia nr 6**\r\n",
        "## Scheduling problem\r\n",
        "Podczas zajęć szóstych poruszony został problem ustalania wszelkiego rodzaju grafików na przykładzie rozplanowania grafiku obsługi pracującej w sklepie. *Scheduling* jest kolejną kategorią problemów, w których metoda programowania liniowego daje bardzo dobre rezultaty. \r\n",
        "\r\n"
      ]
    },
    {
      "cell_type": "markdown",
      "metadata": {
        "id": "Goum3Iwz0Qoy"
      },
      "source": [
        "##**Zadanie do rozwiązania**\r\n",
        "\r\n",
        "---\r\n",
        "\r\n",
        "##Scheduling problem\r\n",
        "\r\n",
        "W pewnym sklepie należy ułożyć grafik dla 6 pracowników. Sklep w ciągu tygodnia potrzebuje nierównomiernego obłożenia związanego z tym, ile osób ma pojawić się w dany dzień w pracy. Obrazuje to poniższa tabela:\r\n",
        "\r\n",
        "|                    | PON | WTO | SRO | CZW | PIĄ |\r\n",
        "|--------------------|-----|-----|-----|-----|-----|\r\n",
        "| Ilość osób w pracy | 2   | 1   | 1   | 1   | 3   |\r\n",
        "\r\n",
        "Każdy z 6 pracowników ma inną stawkę płacową za dzień oraz posiada ograniczenia co do dni, w których może pojawić się w pracy:\r\n",
        "\r\n",
        "| Osoba  | Stawka w zł/dzień | Dni do dyspozycji  |\r\n",
        "|--------|-------------------|--------------------|\r\n",
        "| Ania   | 100               | każdy              |\r\n",
        "| Stefan | 50                | Pon                |\r\n",
        "| Hektor | 60                | Pon, Wto, Sro      |\r\n",
        "| Olaf   | 40                | każdy              |\r\n",
        "| Lidia  | 110               | Czw, Pią           |\r\n",
        "| Piotr  | 70                | Pon, Wto, Sro      |\r\n",
        "\r\n",
        "Ponadto, dodatkowym ograniczeniem jest obecność każdej z osób w pracy **co najwyżej przez 3 dni w tygodniu**.\r\n",
        "\r\n",
        "Należy tak ułożyć grafik, aby spełnić przedstawione wymagania, a koszty związane z wypłatą dla pracowników były jak najmniejsze."
      ]
    },
    {
      "cell_type": "markdown",
      "metadata": {
        "id": "QDhLLNBx56rK"
      },
      "source": [
        "##**Rozwiązanie**\r\n",
        "\r\n",
        "---\r\n",
        "\r\n",
        "Problem ten pokazuje możliwość zastosowania w nim zmiennych binarnych przyjmujących wartość 0 lub 1. Zmiennymi takimi będzie obecność każdej z osób w danym dniu roboczym:\r\n",
        "\r\n",
        "- 0 - osoba nieobecna\r\n",
        "- 1 - osoba obecna\r\n",
        "\r\n",
        "Dzięki takiemu rozwiązaniu przetwarzanie narzuconych ograniczeń na składnię języka programistycznego jest bardzo proste. "
      ]
    },
    {
      "cell_type": "code",
      "metadata": {
        "id": "-CqCXIi6yl9x",
        "outputId": "44f64a92-1161-4088-c4b7-0a54c9294f93"
      },
      "source": [
        "import pulp\n",
        "import numpy as np\n",
        "print(pulp.__version__)"
      ],
      "execution_count": null,
      "outputs": [
        {
          "output_type": "stream",
          "text": [
            "2.3.1\n"
          ],
          "name": "stdout"
        }
      ]
    },
    {
      "cell_type": "code",
      "metadata": {
        "id": "VwHTRpsSyl96",
        "outputId": "ec40823e-706f-4cfa-addc-1987f3847fe5"
      },
      "source": [
        "pulp.pulpTestAll()"
      ],
      "execution_count": null,
      "outputs": [
        {
          "output_type": "stream",
          "text": [
            "........."
          ],
          "name": "stderr"
        },
        {
          "output_type": "stream",
          "text": [
            "Solver <class 'pulp.apis.coin_api.PULP_CBC_CMD'> unavailable\n",
            "Solver <class 'pulp.apis.cplex_api.CPLEX_DLL'> unavailable\n",
            "Solver <class 'pulp.apis.cplex_api.CPLEX_CMD'> unavailable\n",
            "Solver <class 'pulp.apis.cplex_api.CPLEX_PY'> unavailable\n",
            "Solver <class 'pulp.apis.coin_api.COIN_CMD'> unavailable\n",
            "Solver <class 'pulp.apis.coin_api.COINMP_DLL'> unavailable\n",
            "Solver <class 'pulp.apis.glpk_api.GLPK_CMD'> available\n",
            "Solver <class 'pulp.apis.xpress_api.XPRESS'> unavailable\n",
            "Solver <class 'pulp.apis.gurobi_api.GUROBI'> unavailable\n",
            "Solver <class 'pulp.apis.gurobi_api.GUROBI_CMD'> unavailable\n",
            "Solver <class 'pulp.apis.glpk_api.PYGLPK'> unavailable\n",
            "Solver <class 'pulp.apis.coin_api.YAPOSIB'> unavailable\n",
            "Solver <class 'pulp.apis.choco_api.PULP_CHOCO_CMD'> unavailable\n",
            "Solver <class 'pulp.apis.choco_api.CHOCO_CMD'> unavailable\n",
            "Solver <class 'pulp.apis.mipcl_api.MIPCL_CMD'> unavailable\n",
            "Solver <class 'pulp.apis.mosek_api.MOSEK'> unavailable\n",
            "Solver <class 'pulp.apis.scip_api.SCIP_CMD'> unavailable\n",
            "\t Testing invalid status\n",
            "\t Testing continuous LP solution - export dict\n",
            "\t Testing MIP solution\n",
            "\t Testing maximize continuous LP solution\n",
            "\t Testing continuous LP solution - export JSON\n",
            "\t Testing continuous LP solution - export solver dict\n",
            "\t Testing continuous LP solution - export solver JSON\n",
            "\t Testing makeDict general behavior\n"
          ],
          "name": "stdout"
        },
        {
          "output_type": "stream",
          "text": [
            "..........."
          ],
          "name": "stderr"
        },
        {
          "output_type": "stream",
          "text": [
            "\t Testing makeDict default value behavior\n",
            "\t Testing the availability of the function pulpTestAll\n",
            "\t Testing zero subtraction\n",
            "\t Testing inconsistent lp solution\n",
            "\t Testing continuous LP solution\n",
            "\t Testing maximize continuous LP solution\n",
            "\t Testing unbounded continuous LP solution\n",
            "\t Testing Long Names\n",
            "\t Testing repeated Names\n",
            "\t Testing zero constraint\n",
            "\t Testing zero objective\n"
          ],
          "name": "stdout"
        },
        {
          "output_type": "stream",
          "text": [
            "........."
          ],
          "name": "stderr"
        },
        {
          "output_type": "stream",
          "text": [
            "\t Testing LpVariable (not LpAffineExpression) objective\n",
            "\t Testing LpAffineExpression divide\n",
            "\t Testing MIP solution\n",
            "\t Testing MIP solution with floats in objective\n",
            "\t Testing MIP solution\n",
            "\t Testing MIP solution\n",
            "\t Testing MIP relaxation\n",
            "\t Testing feasibility problem (no objective)\n"
          ],
          "name": "stdout"
        },
        {
          "output_type": "stream",
          "text": [
            "..........."
          ],
          "name": "stderr"
        },
        {
          "output_type": "stream",
          "text": [
            "\t Testing an infeasible problem\n",
            "\t Testing an integer infeasible problem\n",
            "\t Testing another integer infeasible problem\n",
            "\t Testing column based modelling\n",
            "\t Testing fractional constraints\n",
            "\t Testing elastic constraints (no change)\n",
            "\t Testing elastic constraints (freebound)\n"
          ],
          "name": "stdout"
        },
        {
          "output_type": "stream",
          "text": [
            "..............."
          ],
          "name": "stderr"
        },
        {
          "output_type": "stream",
          "text": [
            "\t Testing elastic constraints (penalty unchanged)\n",
            "\t Testing elastic constraints (penalty unbounded)\n"
          ],
          "name": "stdout"
        },
        {
          "output_type": "stream",
          "text": [
            "..........................."
          ],
          "name": "stderr"
        },
        {
          "output_type": "stream",
          "text": [
            "{'a': 53.0, 'b': 45.3, 'c': 459.2}\n"
          ],
          "name": "stdout"
        },
        {
          "output_type": "stream",
          "text": [
            "....\n",
            "----------------------------------------------------------------------\n",
            "Ran 86 tests in 1.182s\n",
            "\n",
            "OK\n"
          ],
          "name": "stderr"
        }
      ]
    },
    {
      "cell_type": "code",
      "metadata": {
        "id": "AeOz1G4Nyl97"
      },
      "source": [
        "from pulp import *"
      ],
      "execution_count": null,
      "outputs": []
    },
    {
      "cell_type": "code",
      "metadata": {
        "id": "Vf7eKMKkyl97"
      },
      "source": [
        "prob = LpProblem(\"The_Scheduling_Problem\", LpMinimize)"
      ],
      "execution_count": null,
      "outputs": []
    },
    {
      "cell_type": "markdown",
      "metadata": {
        "id": "H8YqQfuA5S2X"
      },
      "source": [
        "Utworzenie 30 zmiennych - obecność każdej osoby w każdy dzień tygodnia"
      ]
    },
    {
      "cell_type": "code",
      "metadata": {
        "id": "ra5TUzX-yl98"
      },
      "source": [
        "#Ania\n",
        "Pon_a = LpVariable(\"Ania_pon_presence\", 0, 1, LpInteger)\n",
        "Wto_a = LpVariable(\"Ania_wto_presence\", 0, 1, LpInteger)\n",
        "Sro_a = LpVariable(\"Ania_sro_presence\", 0, 1, LpInteger)\n",
        "Czw_a = LpVariable(\"Ania_czw_presence\", 0, 1, LpInteger)\n",
        "Pio_a = LpVariable(\"Ania_pio_presence\", 0, 1, LpInteger)\n",
        "\n",
        "#Stefan\n",
        "Pon_s = LpVariable(\"Stefan_pon_presence\", 0, 1, LpInteger)\n",
        "Wto_s = LpVariable(\"Stefan_wto_presence\", 0, 1, LpInteger)\n",
        "Sro_s = LpVariable(\"Stefan_sro_presence\", 0, 1, LpInteger)\n",
        "Czw_s = LpVariable(\"Stefan_czw_presence\", 0, 1, LpInteger)\n",
        "Pio_s = LpVariable(\"Stefan_pio_presence\", 0, 1, LpInteger)\n",
        "\n",
        "#Hektor\n",
        "Pon_h = LpVariable(\"Hektor_pon_presence\", 0, 1, LpInteger)\n",
        "Wto_h = LpVariable(\"Hektor_wto_presence\", 0, 1, LpInteger)\n",
        "Sro_h = LpVariable(\"Hektor_sro_presence\", 0, 1, LpInteger)\n",
        "Czw_h = LpVariable(\"Hektor_czw_presence\", 0, 1, LpInteger)\n",
        "Pio_h = LpVariable(\"Hektor_pio_presence\", 0, 1, LpInteger)\n",
        "\n",
        "#Olaf\n",
        "Pon_o = LpVariable(\"Olaf_pon_presence\", 0, 1, LpInteger)\n",
        "Wto_o = LpVariable(\"Olaf_wto_presence\", 0, 1, LpInteger)\n",
        "Sro_o = LpVariable(\"Olaf_sro_presence\", 0, 1, LpInteger)\n",
        "Czw_o = LpVariable(\"Olaf_czw_presence\", 0, 1, LpInteger)\n",
        "Pio_o = LpVariable(\"Olaf_pio_presence\", 0, 1, LpInteger)\n",
        "\n",
        "#Lidia\n",
        "Pon_l = LpVariable(\"Lidia_pon_presence\", 0, 1, LpInteger)\n",
        "Wto_l = LpVariable(\"Lidia_wto_presence\", 0, 1, LpInteger)\n",
        "Sro_l = LpVariable(\"Lidia_sro_presence\", 0, 1, LpInteger)\n",
        "Czw_l = LpVariable(\"Lidia_czw_presence\", 0, 1, LpInteger)\n",
        "Pio_l = LpVariable(\"Lidia_pio_presence\", 0, 1, LpInteger)\n",
        "\n",
        "#Piotr\n",
        "Pon_p = LpVariable(\"Piotr_pon_presence\", 0, 1, LpInteger)\n",
        "Wto_p = LpVariable(\"Piotr_wto_presence\", 0, 1, LpInteger)\n",
        "Sro_p = LpVariable(\"Piotr_sro_presence\", 0, 1, LpInteger)\n",
        "Czw_p = LpVariable(\"Piotr_czw_presence\", 0, 1, LpInteger)\n",
        "Pio_p = LpVariable(\"Piotr_pio_presence\", 0, 1, LpInteger)\n",
        "\n"
      ],
      "execution_count": null,
      "outputs": []
    },
    {
      "cell_type": "markdown",
      "metadata": {
        "id": "GjfaN3TlBk7_"
      },
      "source": [
        "Funkcja do zoptymalizowania czyli tygodniowy wydatek na pensje pracowników"
      ]
    },
    {
      "cell_type": "code",
      "metadata": {
        "id": "wP28Q-fPyl98"
      },
      "source": [
        "prob += Pon_a*100+Wto_a*100+Sro_a*100+Czw_a*100+Pio_a*100+Pon_s*50+Wto_s*50+Sro_s*50+Czw_s*50+Pio_s*50+Pon_h*60+Wto_h*60+Sro_h*60+Czw_h*60+Pio_h*60+Pon_o*40+Wto_o*40+Sro_o*40+Czw_o*40+Pio_o*40+Pon_l*110+Wto_l*110+Sro_l*110+Czw_l*110+Pio_l*110+Pon_p*70+Wto_p*70+Sro_p*70+Czw_p*70+Pio_p*70"
      ],
      "execution_count": null,
      "outputs": []
    },
    {
      "cell_type": "markdown",
      "metadata": {
        "id": "-3WMoeQoBqD8"
      },
      "source": [
        "Ograniczenia przy zastosowaniu zmiennych binarnych. Dzięki takiemu podejścu np. aby spełnić warunek obecności 2 osób w poniedziałek, wystarczy napisać, że suma wartości obecności (0 lub 1) każdej osoby ma być równa 2. "
      ]
    },
    {
      "cell_type": "code",
      "metadata": {
        "id": "lKaAteFTyl98"
      },
      "source": [
        "#Oblozenie dzienne\n",
        "prob += Pon_a+Pon_s+Pon_h+Pon_o+Pon_l+Pon_p == 2, \"Pon_constraint\"\n",
        "prob += Wto_a+Wto_s+Wto_h+Wto_o+Wto_l+Wto_p == 1, \"Wto_constraint\"\n",
        "prob += Sro_a+Sro_s+Sro_h+Sro_o+Sro_l+Sro_p == 1, \"Sro_constraint\"\n",
        "prob += Czw_a+Czw_s+Czw_h+Czw_o+Czw_l+Czw_p == 1, \"Czw_constraint\"\n",
        "prob += Pio_a+Pio_s+Pio_h+Pio_o+Pio_l+Pio_p == 3, \"Pio_constraint\"\n",
        "\n",
        "#Ograniczenia ilosci osob w tygodniu\n",
        "prob += Pon_a+Wto_a+Sro_a+Czw_a+Pio_a <= 3, \"Weekly_constraint1\"\n",
        "prob += Pon_s+Wto_s+Sro_s+Czw_s+Pio_s <= 3, \"Weekly_constraint2\"\n",
        "prob += Pon_h+Wto_h+Sro_h+Czw_h+Pio_h <= 3, \"Weekly_constraint3\"\n",
        "prob += Pon_o+Wto_o+Sro_o+Czw_o+Pio_o <= 3, \"Weekly_constraint4\"\n",
        "prob += Pon_l+Wto_l+Sro_l+Czw_l+Pio_l <= 3, \"Weekly_constraint5\"\n",
        "prob += Pon_p+Wto_p+Sro_p+Czw_p+Pio_p <= 3, \"Weekly_constraint6\"\n",
        "\n",
        "#Ograniczenia osobowe\n",
        "prob += Wto_s+Sro_s+Czw_s+Pio_s == 0, \"Stefan_constraint\"\n",
        "prob += Czw_h+Pio_h == 0, \"Hektor_constraint\"\n",
        "prob += Pon_l+Wto_l+Sro_l == 0, \"Lidia_constraint\"\n",
        "prob += Czw_p+Pio_p == 0, \"Piotr_constraint\"\n"
      ],
      "execution_count": null,
      "outputs": []
    },
    {
      "cell_type": "code",
      "metadata": {
        "id": "w1G2JM0oyl99",
        "outputId": "d786c9fb-8730-4748-eac1-cb13f0717af4"
      },
      "source": [
        "prob.writeLP(\"SchedulingModel.lp\")"
      ],
      "execution_count": null,
      "outputs": [
        {
          "output_type": "execute_result",
          "data": {
            "text/plain": [
              "[Ania_czw_presence,\n",
              " Ania_pio_presence,\n",
              " Ania_pon_presence,\n",
              " Ania_sro_presence,\n",
              " Ania_wto_presence,\n",
              " Hektor_czw_presence,\n",
              " Hektor_pio_presence,\n",
              " Hektor_pon_presence,\n",
              " Hektor_sro_presence,\n",
              " Hektor_wto_presence,\n",
              " Lidia_czw_presence,\n",
              " Lidia_pio_presence,\n",
              " Lidia_pon_presence,\n",
              " Lidia_sro_presence,\n",
              " Lidia_wto_presence,\n",
              " Olaf_czw_presence,\n",
              " Olaf_pio_presence,\n",
              " Olaf_pon_presence,\n",
              " Olaf_sro_presence,\n",
              " Olaf_wto_presence,\n",
              " Piotr_czw_presence,\n",
              " Piotr_pio_presence,\n",
              " Piotr_pon_presence,\n",
              " Piotr_sro_presence,\n",
              " Piotr_wto_presence,\n",
              " Stefan_czw_presence,\n",
              " Stefan_pio_presence,\n",
              " Stefan_pon_presence,\n",
              " Stefan_sro_presence,\n",
              " Stefan_wto_presence]"
            ]
          },
          "metadata": {
            "tags": []
          },
          "execution_count": 18
        }
      ]
    },
    {
      "cell_type": "code",
      "metadata": {
        "id": "3S9_oBTdyl99",
        "outputId": "46a98147-b69d-481f-d4d2-c445e1196bfc"
      },
      "source": [
        "prob.solve()"
      ],
      "execution_count": null,
      "outputs": [
        {
          "output_type": "execute_result",
          "data": {
            "text/plain": [
              "1"
            ]
          },
          "metadata": {
            "tags": []
          },
          "execution_count": 19
        }
      ]
    },
    {
      "cell_type": "code",
      "metadata": {
        "id": "rM8NGkl6yl9-",
        "outputId": "ff91813a-721d-47ac-d915-fa210b218ecf"
      },
      "source": [
        "print(\"Status:\", LpStatus[prob.status])"
      ],
      "execution_count": null,
      "outputs": [
        {
          "output_type": "stream",
          "text": [
            "Status: Optimal\n"
          ],
          "name": "stdout"
        }
      ]
    },
    {
      "cell_type": "markdown",
      "metadata": {
        "id": "D2X73t-ACB68"
      },
      "source": [
        "Ukazanie obecności poszczególnych osób w konkretne dni tygodnia"
      ]
    },
    {
      "cell_type": "code",
      "metadata": {
        "id": "C-pnBDEHyl9-",
        "outputId": "34a0b35c-35fe-4494-b27a-9b5558a96b0c"
      },
      "source": [
        "for v in prob.variables():\n",
        "    print(v.name, \"=\", v.varValue)"
      ],
      "execution_count": null,
      "outputs": [
        {
          "output_type": "stream",
          "text": [
            "Ania_czw_presence = 0\n",
            "Ania_pio_presence = 1\n",
            "Ania_pon_presence = 0\n",
            "Ania_sro_presence = 0\n",
            "Ania_wto_presence = 0\n",
            "Hektor_czw_presence = 0\n",
            "Hektor_pio_presence = 0\n",
            "Hektor_pon_presence = 0\n",
            "Hektor_sro_presence = 1\n",
            "Hektor_wto_presence = 1\n",
            "Lidia_czw_presence = 0\n",
            "Lidia_pio_presence = 1\n",
            "Lidia_pon_presence = 0\n",
            "Lidia_sro_presence = 0\n",
            "Lidia_wto_presence = 0\n",
            "Olaf_czw_presence = 1\n",
            "Olaf_pio_presence = 1\n",
            "Olaf_pon_presence = 1\n",
            "Olaf_sro_presence = 0\n",
            "Olaf_wto_presence = 0\n",
            "Piotr_czw_presence = 0\n",
            "Piotr_pio_presence = 0\n",
            "Piotr_pon_presence = 0\n",
            "Piotr_sro_presence = 0\n",
            "Piotr_wto_presence = 0\n",
            "Stefan_czw_presence = 0\n",
            "Stefan_pio_presence = 0\n",
            "Stefan_pon_presence = 1\n",
            "Stefan_sro_presence = 0\n",
            "Stefan_wto_presence = 0\n"
          ],
          "name": "stdout"
        }
      ]
    },
    {
      "cell_type": "markdown",
      "metadata": {
        "id": "8Yu8O4-HCGG_"
      },
      "source": [
        "Przy takim obłożeniu uzyskujemy minimalny wydatek na pensje pracowników"
      ]
    },
    {
      "cell_type": "code",
      "metadata": {
        "id": "7c5zXla3yl9-",
        "outputId": "6b3a14d2-ef86-4659-9d1f-06eb95aac580"
      },
      "source": [
        "print(\"Tygodniowy wydatek na zaplaty pracownikom:\", value(prob.objective), \"zl\")"
      ],
      "execution_count": null,
      "outputs": [
        {
          "output_type": "stream",
          "text": [
            "Tygodniowy wydatek na zaplaty pracownikom: 500 zl\n"
          ],
          "name": "stdout"
        }
      ]
    },
    {
      "cell_type": "code",
      "metadata": {
        "id": "eO1Wjlwoyl9_"
      },
      "source": [
        ""
      ],
      "execution_count": null,
      "outputs": []
    }
  ]
}