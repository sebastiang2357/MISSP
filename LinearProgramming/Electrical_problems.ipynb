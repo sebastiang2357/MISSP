{
  "nbformat": 4,
  "nbformat_minor": 0,
  "metadata": {
    "kernelspec": {
      "display_name": "Python 3",
      "language": "python",
      "name": "python3"
    },
    "language_info": {
      "codemirror_mode": {
        "name": "ipython",
        "version": 3
      },
      "file_extension": ".py",
      "mimetype": "text/x-python",
      "name": "python",
      "nbconvert_exporter": "python",
      "pygments_lexer": "ipython3",
      "version": "3.8.3"
    },
    "colab": {
      "name": "ResistanceProblem1.ipynb",
      "provenance": []
    }
  },
  "cells": [
    {
      "cell_type": "markdown",
      "metadata": {
        "id": "OKcbz0WhEukh"
      },
      "source": [
        "#**Zajęcia nr 5**\r\n",
        "## Power dissipation problem oraz maximum current problem\r\n",
        "\r\n",
        "Na zajęciach nr 5 przedstawione zostały dwa problemy z dziedziny elektrotechniki, które jak się okazało, można z powodzeniem rozwiązać z pomocą programowania liniowego. Ukazało to uniwersalność metody programowania liniowego w różnych dziedzinach życia bez ograniczania się do tematyki produkcji czy też sprzedaży. "
      ]
    },
    {
      "cell_type": "markdown",
      "metadata": {
        "id": "yB_8Rz-KFwja"
      },
      "source": [
        "##**Zadania do rozwiązania**\r\n",
        "\r\n",
        "---\r\n",
        "\r\n",
        "##**Zadanie 1**\r\n",
        "\r\n",
        "###Power dissipation problem\r\n",
        "\r\n",
        "Dany jest mostek składający się z 5 rezystorów R1 - R5 ukazany na rysunku poniżej:\r\n",
        "\r\n",
        "![Imgur](https://i.imgur.com/xr5NrbA.png)\r\n",
        "\r\n",
        "a także  tabela z wartościami napięć i prądów mostka:\r\n",
        "\r\n",
        "| i      | 1 | 2  | 3 | 4 | 5 |    |\r\n",
        "|--------|---|----|---|---|---|----|\r\n",
        "| Ui     | 6 | 10 | 4 | 7 | 3 | V  |\r\n",
        "| Ii     | 4 | 2  | 2 | 2 | 4 | mA |\r\n",
        "| deltai | 1 | 1  | 1 | 1 | 1 | mA |\r\n",
        "\r\n",
        "Na każdym z rezystorów panuje znane napięcie *Ui*, gdzie *i* to numer rezystora. Znany jest także przedział wartości natężenia prądu *Ii - Δi ≤ Ii ≤ Ii + Δi* , jaki może przepłynąć przez każdą gałąź (każdy z rezystorów). Należy znaleźć taką wartość prądów w gałęziach, aby moc rozproszona na rezystorach była jak najmniejsza. \r\n",
        "\r\n",
        "\r\n"
      ]
    },
    {
      "cell_type": "markdown",
      "metadata": {
        "id": "OV2tCRNiR5RA"
      },
      "source": [
        "##**Zadanie 2**\r\n",
        "\r\n",
        "###Maximum current problem\r\n",
        "\r\n",
        "Dany jest fragment obwodu składający się z 5 rezystorów przedstawiony na rysunku poniżej:\r\n",
        "\r\n",
        "![Imgur](https://i.imgur.com/pwI9Uw8.png)\r\n",
        "\r\n",
        "a także tabela z wartościami rezystancji oraz maksymalnym natężeniem prądu rezystorów:\r\n",
        "\r\n",
        "| i  | 1 | 2 | 3 | 4  | 5 |     |\r\n",
        "|----|---|---|---|----|---|-----|\r\n",
        "| Iimax | 2 | 3 | 4 | 2  | 2 | A   |\r\n",
        "| Ri | 8 | 6 | 4 | 10 | 8 | ohm |\r\n",
        "\r\n",
        "\r\n",
        "Znając podane wartości, należało znaleźć maksymalny prąd płynący przez obwód. "
      ]
    },
    {
      "cell_type": "markdown",
      "metadata": {
        "id": "mLPadCRhTQ3D"
      },
      "source": [
        "##**Rozwiązania**\r\n",
        "\r\n",
        "---\r\n",
        "\r\n",
        "##**Zadanie 1**"
      ]
    },
    {
      "cell_type": "code",
      "metadata": {
        "id": "1iSVlT2_CwX0",
        "colab": {
          "base_uri": "https://localhost:8080/"
        },
        "outputId": "eb8083b0-9d16-4c6b-f361-2155b2bef7f6"
      },
      "source": [
        "!pip install pulp\n",
        "import pulp\n",
        "import numpy as np\n",
        "print(pulp.__version__)"
      ],
      "execution_count": 5,
      "outputs": [
        {
          "output_type": "stream",
          "text": [
            "Collecting pulp\n",
            "\u001b[?25l  Downloading https://files.pythonhosted.org/packages/89/0c/6d80f5f81a92d1733cc5ca180491b8a3cd5839e335627a0046c81b7d3d3d/PuLP-2.3.1-py3-none-any.whl (40.6MB)\n",
            "\u001b[K     |████████████████████████████████| 40.6MB 97kB/s \n",
            "\u001b[?25hCollecting amply>=0.1.2\n",
            "  Downloading https://files.pythonhosted.org/packages/f3/c5/dfa09dd2595a2ab2ab4e6fa7bebef9565812722e1980d04b0edce5032066/amply-0.1.4-py3-none-any.whl\n",
            "Requirement already satisfied: docutils>=0.3 in /usr/local/lib/python3.6/dist-packages (from amply>=0.1.2->pulp) (0.16)\n",
            "Requirement already satisfied: pyparsing in /usr/local/lib/python3.6/dist-packages (from amply>=0.1.2->pulp) (2.4.7)\n",
            "Installing collected packages: amply, pulp\n",
            "Successfully installed amply-0.1.4 pulp-2.3.1\n",
            "2.3.1\n"
          ],
          "name": "stdout"
        }
      ]
    },
    {
      "cell_type": "code",
      "metadata": {
        "id": "lUP2YgsJCwX2",
        "colab": {
          "base_uri": "https://localhost:8080/"
        },
        "outputId": "830676ad-6cf7-4d86-a11d-37bd4400e7b0"
      },
      "source": [
        "pulp.pulpTestAll()"
      ],
      "execution_count": 6,
      "outputs": [
        {
          "output_type": "stream",
          "text": [
            "................"
          ],
          "name": "stderr"
        },
        {
          "output_type": "stream",
          "text": [
            "Solver <class 'pulp.apis.coin_api.PULP_CBC_CMD'> available\n",
            "Solver <class 'pulp.apis.cplex_api.CPLEX_DLL'> unavailable\n",
            "Solver <class 'pulp.apis.cplex_api.CPLEX_CMD'> unavailable\n",
            "Solver <class 'pulp.apis.cplex_api.CPLEX_PY'> unavailable\n",
            "Solver <class 'pulp.apis.coin_api.COIN_CMD'> unavailable\n",
            "Solver <class 'pulp.apis.coin_api.COINMP_DLL'> unavailable\n",
            "Solver <class 'pulp.apis.glpk_api.GLPK_CMD'> unavailable\n",
            "Solver <class 'pulp.apis.xpress_api.XPRESS'> unavailable\n",
            "Solver <class 'pulp.apis.gurobi_api.GUROBI'> unavailable\n",
            "Solver <class 'pulp.apis.gurobi_api.GUROBI_CMD'> unavailable\n",
            "Solver <class 'pulp.apis.glpk_api.PYGLPK'> unavailable\n",
            "Solver <class 'pulp.apis.coin_api.YAPOSIB'> unavailable\n",
            "Solver <class 'pulp.apis.choco_api.PULP_CHOCO_CMD'> available\n",
            "Solver <class 'pulp.apis.choco_api.CHOCO_CMD'> unavailable\n",
            "Solver <class 'pulp.apis.mipcl_api.MIPCL_CMD'> unavailable\n",
            "Solver <class 'pulp.apis.mosek_api.MOSEK'> unavailable\n",
            "Solver <class 'pulp.apis.scip_api.SCIP_CMD'> unavailable\n",
            "\t Testing invalid status\n",
            "\t Testing continuous LP solution - export dict\n",
            "\t Testing MIP solution\n",
            "\t Testing maximize continuous LP solution\n",
            "\t Testing continuous LP solution - export JSON\n",
            "\t Testing continuous LP solution - export solver dict\n",
            "\t Testing continuous LP solution - export solver JSON\n",
            "\t Testing makeDict general behavior\n",
            "\t Testing makeDict default value behavior\n",
            "\t Testing the availability of the function pulpTestAll\n",
            "\t Testing zero subtraction\n",
            "\t Testing inconsistent lp solution\n",
            "\t Testing continuous LP solution\n",
            "\t Testing maximize continuous LP solution\n",
            "\t Testing unbounded continuous LP solution\n",
            "\t Testing Long Names\n"
          ],
          "name": "stdout"
        },
        {
          "output_type": "stream",
          "text": [
            "..............."
          ],
          "name": "stderr"
        },
        {
          "output_type": "stream",
          "text": [
            "\t Testing repeated Names\n",
            "\t Testing zero constraint\n",
            "\t Testing zero objective\n",
            "\t Testing LpVariable (not LpAffineExpression) objective\n",
            "\t Testing Long lines in LP\n",
            "\t Testing LpAffineExpression divide\n",
            "\t Testing MIP solution\n",
            "\t Testing MIP solution with floats in objective\n",
            "\t Testing MIP solution\n",
            "\t Testing MIP solution\n",
            "\t Testing MIP relaxation\n",
            "\t Testing feasibility problem (no objective)\n",
            "\t Testing an infeasible problem\n",
            "\t Testing an integer infeasible problem\n"
          ],
          "name": "stdout"
        },
        {
          "output_type": "stream",
          "text": [
            "............."
          ],
          "name": "stderr"
        },
        {
          "output_type": "stream",
          "text": [
            "\t Testing another integer infeasible problem\n",
            "\t Testing column based modelling\n",
            "\t Testing dual variables and slacks reporting\n",
            "\t Testing fractional constraints\n",
            "\t Testing elastic constraints (no change)\n",
            "\t Testing elastic constraints (freebound)\n",
            "\t Testing elastic constraints (penalty unchanged)\n",
            "\t Testing elastic constraints (penalty unbounded)\n",
            "\t Testing invalid status\n",
            "\t Testing continuous LP solution - export dict\n"
          ],
          "name": "stdout"
        },
        {
          "output_type": "stream",
          "text": [
            "."
          ],
          "name": "stderr"
        },
        {
          "output_type": "stream",
          "text": [
            "\t Testing MIP solution\n"
          ],
          "name": "stdout"
        },
        {
          "output_type": "stream",
          "text": [
            "."
          ],
          "name": "stderr"
        },
        {
          "output_type": "stream",
          "text": [
            "\t Testing maximize continuous LP solution\n"
          ],
          "name": "stdout"
        },
        {
          "output_type": "stream",
          "text": [
            "."
          ],
          "name": "stderr"
        },
        {
          "output_type": "stream",
          "text": [
            "\t Testing continuous LP solution - export JSON\n"
          ],
          "name": "stdout"
        },
        {
          "output_type": "stream",
          "text": [
            "."
          ],
          "name": "stderr"
        },
        {
          "output_type": "stream",
          "text": [
            "\t Testing continuous LP solution - export solver dict\n"
          ],
          "name": "stdout"
        },
        {
          "output_type": "stream",
          "text": [
            "."
          ],
          "name": "stderr"
        },
        {
          "output_type": "stream",
          "text": [
            "\t Testing continuous LP solution - export solver JSON\n"
          ],
          "name": "stdout"
        },
        {
          "output_type": "stream",
          "text": [
            "......."
          ],
          "name": "stderr"
        },
        {
          "output_type": "stream",
          "text": [
            "\t Testing makeDict general behavior\n",
            "\t Testing makeDict default value behavior\n",
            "\t Testing the availability of the function pulpTestAll\n",
            "\t Testing zero subtraction\n",
            "\t Testing inconsistent lp solution\n",
            "\t Testing continuous LP solution\n"
          ],
          "name": "stdout"
        },
        {
          "output_type": "stream",
          "text": [
            "."
          ],
          "name": "stderr"
        },
        {
          "output_type": "stream",
          "text": [
            "\t Testing maximize continuous LP solution\n"
          ],
          "name": "stdout"
        },
        {
          "output_type": "stream",
          "text": [
            ".."
          ],
          "name": "stderr"
        },
        {
          "output_type": "stream",
          "text": [
            "\t Testing unbounded continuous LP solution\n",
            "\t Testing Long Names\n"
          ],
          "name": "stdout"
        },
        {
          "output_type": "stream",
          "text": [
            ".."
          ],
          "name": "stderr"
        },
        {
          "output_type": "stream",
          "text": [
            "\t Testing repeated Names\n",
            "\t Testing zero constraint\n"
          ],
          "name": "stdout"
        },
        {
          "output_type": "stream",
          "text": [
            "."
          ],
          "name": "stderr"
        },
        {
          "output_type": "stream",
          "text": [
            "\t Testing zero objective\n"
          ],
          "name": "stdout"
        },
        {
          "output_type": "stream",
          "text": [
            "."
          ],
          "name": "stderr"
        },
        {
          "output_type": "stream",
          "text": [
            "\t Testing LpVariable (not LpAffineExpression) objective\n"
          ],
          "name": "stdout"
        },
        {
          "output_type": "stream",
          "text": [
            ".."
          ],
          "name": "stderr"
        },
        {
          "output_type": "stream",
          "text": [
            "\t Testing LpAffineExpression divide\n"
          ],
          "name": "stdout"
        },
        {
          "output_type": "stream",
          "text": [
            "."
          ],
          "name": "stderr"
        },
        {
          "output_type": "stream",
          "text": [
            "\t Testing MIP solution\n"
          ],
          "name": "stdout"
        },
        {
          "output_type": "stream",
          "text": [
            "."
          ],
          "name": "stderr"
        },
        {
          "output_type": "stream",
          "text": [
            "\t Testing MIP solution with floats in objective\n"
          ],
          "name": "stdout"
        },
        {
          "output_type": "stream",
          "text": [
            "."
          ],
          "name": "stderr"
        },
        {
          "output_type": "stream",
          "text": [
            "\t Testing MIP solution\n"
          ],
          "name": "stdout"
        },
        {
          "output_type": "stream",
          "text": [
            "."
          ],
          "name": "stderr"
        },
        {
          "output_type": "stream",
          "text": [
            "\t Testing MIP solution\n"
          ],
          "name": "stdout"
        },
        {
          "output_type": "stream",
          "text": [
            "./usr/local/lib/python3.6/dist-packages/pulp/apis/choco_api.py:83: UserWarning: CHOCO_CMD cannot solve the relaxation of a problem\n",
            "  warnings.warn(\"CHOCO_CMD cannot solve the relaxation of a problem\")\n"
          ],
          "name": "stderr"
        },
        {
          "output_type": "stream",
          "text": [
            "\t Testing MIP relaxation\n"
          ],
          "name": "stdout"
        },
        {
          "output_type": "stream",
          "text": [
            "."
          ],
          "name": "stderr"
        },
        {
          "output_type": "stream",
          "text": [
            "\t Testing feasibility problem (no objective)\n"
          ],
          "name": "stdout"
        },
        {
          "output_type": "stream",
          "text": [
            "."
          ],
          "name": "stderr"
        },
        {
          "output_type": "stream",
          "text": [
            "\t Testing an infeasible problem\n"
          ],
          "name": "stdout"
        },
        {
          "output_type": "stream",
          "text": [
            "."
          ],
          "name": "stderr"
        },
        {
          "output_type": "stream",
          "text": [
            "\t Testing an integer infeasible problem\n"
          ],
          "name": "stdout"
        },
        {
          "output_type": "stream",
          "text": [
            "."
          ],
          "name": "stderr"
        },
        {
          "output_type": "stream",
          "text": [
            "\t Testing another integer infeasible problem\n"
          ],
          "name": "stdout"
        },
        {
          "output_type": "stream",
          "text": [
            "."
          ],
          "name": "stderr"
        },
        {
          "output_type": "stream",
          "text": [
            "\t Testing column based modelling\n"
          ],
          "name": "stdout"
        },
        {
          "output_type": "stream",
          "text": [
            "....."
          ],
          "name": "stderr"
        },
        {
          "output_type": "stream",
          "text": [
            "\t Testing fractional constraints\n"
          ],
          "name": "stdout"
        },
        {
          "output_type": "stream",
          "text": [
            "."
          ],
          "name": "stderr"
        },
        {
          "output_type": "stream",
          "text": [
            "\t Testing elastic constraints (no change)\n"
          ],
          "name": "stdout"
        },
        {
          "output_type": "stream",
          "text": [
            "."
          ],
          "name": "stderr"
        },
        {
          "output_type": "stream",
          "text": [
            "\t Testing elastic constraints (freebound)\n"
          ],
          "name": "stdout"
        },
        {
          "output_type": "stream",
          "text": [
            "."
          ],
          "name": "stderr"
        },
        {
          "output_type": "stream",
          "text": [
            "\t Testing elastic constraints (penalty unchanged)\n"
          ],
          "name": "stdout"
        },
        {
          "output_type": "stream",
          "text": [
            "............"
          ],
          "name": "stderr"
        },
        {
          "output_type": "stream",
          "text": [
            "\t Testing elastic constraints (penalty unbounded)\n"
          ],
          "name": "stdout"
        },
        {
          "output_type": "stream",
          "text": [
            "........................."
          ],
          "name": "stderr"
        },
        {
          "output_type": "stream",
          "text": [
            "{'a': 53.0, 'b': 45.3, 'c': 459.2}\n"
          ],
          "name": "stdout"
        },
        {
          "output_type": "stream",
          "text": [
            ".........\n",
            "----------------------------------------------------------------------\n",
            "Ran 129 tests in 37.431s\n",
            "\n",
            "OK\n"
          ],
          "name": "stderr"
        }
      ]
    },
    {
      "cell_type": "code",
      "metadata": {
        "id": "YtucJdQ8CwX3"
      },
      "source": [
        "from pulp import *"
      ],
      "execution_count": 7,
      "outputs": []
    },
    {
      "cell_type": "markdown",
      "metadata": {
        "id": "MkTwF3XDTlIE"
      },
      "source": [
        "Jako że należało znaleźć najmniejszą moc rozproszoną, ustawiono *LpMinimize*"
      ]
    },
    {
      "cell_type": "code",
      "metadata": {
        "id": "q0CjFP3SCwX4"
      },
      "source": [
        "prob = LpProblem(\"The_Resistance_Problem\", LpMinimize)"
      ],
      "execution_count": 8,
      "outputs": []
    },
    {
      "cell_type": "markdown",
      "metadata": {
        "id": "08Q28ClZTsyP"
      },
      "source": [
        "Za zmienne przyjęto wartości prądów w gałęziach"
      ]
    },
    {
      "cell_type": "code",
      "metadata": {
        "id": "foVyin7BCwX4"
      },
      "source": [
        "i1 = LpVariable(\"I1_Curr\", -5, 5, LpContinuous)\n",
        "i2 = LpVariable(\"I2_Curr\", -5, 5, LpContinuous)\n",
        "i3 = LpVariable(\"I3_Curr\", -5, 5, LpContinuous)\n",
        "i4 = LpVariable(\"I4_Curr\", -5, 5, LpContinuous)\n",
        "i5 = LpVariable(\"I5_Curr\", -5, 5, LpContinuous)"
      ],
      "execution_count": 9,
      "outputs": []
    },
    {
      "cell_type": "markdown",
      "metadata": {
        "id": "WIg4LM7MTx07"
      },
      "source": [
        "Funkcja minimalizująca miała postać sumy iloczynów prądów jako zmiennych oraz napięć podanych w tabeli"
      ]
    },
    {
      "cell_type": "code",
      "metadata": {
        "id": "INeazfQlCwX5"
      },
      "source": [
        "prob += 6*i1  + 10*i2 + 4*i3 + 7*i4 + 3*i5, \"Lowest power\""
      ],
      "execution_count": 10,
      "outputs": []
    },
    {
      "cell_type": "markdown",
      "metadata": {
        "id": "MRIceclOT98p"
      },
      "source": [
        "Stworzono ograniczenia zgodnie z tymi podanymi w tabeli. Należało uwzględnić nie tylko przedziały *Ii - Δi ≤ Ii ≤ Ii + Δi* ale także napisać dwa prądowe równania Kirchhoffa"
      ]
    },
    {
      "cell_type": "code",
      "metadata": {
        "id": "j7L1JzoTCwX5"
      },
      "source": [
        "\n",
        "\n",
        "prob += i1 >= 3, \"I1_Curr_lower_constraint\"\n",
        "prob += i1 <= 5, \"I1_Curr_upper_constraint\"\n",
        "prob += i2 >= 1, \"I2_Curr_lower_constraint\"\n",
        "prob += i2 <= 3, \"I2_Curr_upper_constraint\"\n",
        "prob += i3 >= 1, \"I3_Curr_lower_constraint\"\n",
        "prob += i3 <= 3, \"I3_Curr_upper_constraint\"\n",
        "prob += i4 >= 1, \"I4_Curr_lower_constraint\"\n",
        "prob += i4 <= 3, \"I4_Curr_upper_constraint\"\n",
        "prob += i5 >= 3, \"I5_Curr_lower_constraint\"\n",
        "prob += i5 <= 5, \"I5_Curr_upper_constraint\"\n",
        "\n",
        "\n",
        "prob += i3 + i4 - i1 == 0, \"PPK_constraint_1\"\n",
        "prob += i2 + i3 - i5 == 0, \"PPK_constraint_2\"\n",
        "\n",
        "\n"
      ],
      "execution_count": 11,
      "outputs": []
    },
    {
      "cell_type": "code",
      "metadata": {
        "id": "MMF5i-yJCwX5",
        "colab": {
          "base_uri": "https://localhost:8080/"
        },
        "outputId": "28198495-ee22-438d-fe68-fc1722af022a"
      },
      "source": [
        "prob.writeLP(\"WindowsModel.lp\")"
      ],
      "execution_count": 12,
      "outputs": [
        {
          "output_type": "execute_result",
          "data": {
            "text/plain": [
              "[I1_Curr, I2_Curr, I3_Curr, I4_Curr, I5_Curr]"
            ]
          },
          "metadata": {
            "tags": []
          },
          "execution_count": 12
        }
      ]
    },
    {
      "cell_type": "code",
      "metadata": {
        "id": "m-FL72kBCwX6",
        "colab": {
          "base_uri": "https://localhost:8080/"
        },
        "outputId": "529c51b7-8547-48f4-9f0d-a60bc6a76242"
      },
      "source": [
        "prob.solve()"
      ],
      "execution_count": 13,
      "outputs": [
        {
          "output_type": "execute_result",
          "data": {
            "text/plain": [
              "1"
            ]
          },
          "metadata": {
            "tags": []
          },
          "execution_count": 13
        }
      ]
    },
    {
      "cell_type": "code",
      "metadata": {
        "id": "Sudf9Nu1CwX6",
        "colab": {
          "base_uri": "https://localhost:8080/"
        },
        "outputId": "19abfc66-66c9-48f4-cb17-fcd5e6a4896f"
      },
      "source": [
        "print(\"Status:\", LpStatus[prob.status])"
      ],
      "execution_count": 14,
      "outputs": [
        {
          "output_type": "stream",
          "text": [
            "Status: Optimal\n"
          ],
          "name": "stdout"
        }
      ]
    },
    {
      "cell_type": "markdown",
      "metadata": {
        "id": "hcAnc7B5UekZ"
      },
      "source": [
        "Minimalne wartości prądów w gałęziach prezentowały się następująco:"
      ]
    },
    {
      "cell_type": "code",
      "metadata": {
        "id": "Fi2fZy2aCwX6",
        "colab": {
          "base_uri": "https://localhost:8080/"
        },
        "outputId": "9317d35f-6477-4971-ae00-862938259f29"
      },
      "source": [
        "curr = []\n",
        "for v in prob.variables():\n",
        "    print(v.name, \"=\", v.varValue)\n",
        "    curr.append(v.varValue*0.001)\n",
        "print(curr)\n",
        "    "
      ],
      "execution_count": 15,
      "outputs": [
        {
          "output_type": "stream",
          "text": [
            "I1_Curr = 3.0\n",
            "I2_Curr = 1.0\n",
            "I3_Curr = 2.0\n",
            "I4_Curr = 1.0\n",
            "I5_Curr = 3.0\n",
            "[0.003, 0.001, 0.002, 0.001, 0.003]\n"
          ],
          "name": "stdout"
        }
      ]
    },
    {
      "cell_type": "markdown",
      "metadata": {
        "id": "mR71cA5aV2eH"
      },
      "source": [
        "Na koniec skorzystano z narzędzia numpy, aby w wygodny sposób pomnożyć przez siebie wartości poszczególnych napięć i prądów w celu otrzymania całkowitej mocy rozproszonej"
      ]
    },
    {
      "cell_type": "code",
      "metadata": {
        "id": "pIwiRbQECwX7",
        "colab": {
          "base_uri": "https://localhost:8080/"
        },
        "outputId": "cf5844f0-6ae2-4dfe-cd4a-c6000e457fe5"
      },
      "source": [
        "\n",
        "voltage = np.array([6.0, 10.0, 4.0, 7.0, 3.0])\n",
        "current = np.array(curr)\n",
        "wyniki = voltage*current\n",
        "print(\"straty na poszczególnych rezystorach: \", wyniki, 'W')\n",
        "print(\"calkowite straty minimalne: \", value(prob.objective)/1000, 'W')"
      ],
      "execution_count": 21,
      "outputs": [
        {
          "output_type": "stream",
          "text": [
            "straty na poszczególnych rezystorach:  [0.018 0.01  0.008 0.007 0.009] W\n",
            "calkowite straty minimalne:  0.052 W\n"
          ],
          "name": "stdout"
        }
      ]
    },
    {
      "cell_type": "markdown",
      "metadata": {
        "id": "CxtJG1vxWLwj"
      },
      "source": [
        "##**Zadanie 2**\r\n",
        "\r\n",
        "\r\n"
      ]
    },
    {
      "cell_type": "code",
      "metadata": {
        "colab": {
          "base_uri": "https://localhost:8080/"
        },
        "id": "RNxc5ZYAXOmN",
        "outputId": "2b053e37-b403-48f2-eec5-42bfd3ed9ce7"
      },
      "source": [
        "!pip install pulp\r\n",
        "import pulp\r\n",
        "import numpy as np\r\n",
        "print(pulp.__version__)\r\n"
      ],
      "execution_count": 22,
      "outputs": [
        {
          "output_type": "stream",
          "text": [
            "Requirement already satisfied: pulp in /usr/local/lib/python3.6/dist-packages (2.3.1)\n",
            "Requirement already satisfied: amply>=0.1.2 in /usr/local/lib/python3.6/dist-packages (from pulp) (0.1.4)\n",
            "Requirement already satisfied: pyparsing in /usr/local/lib/python3.6/dist-packages (from amply>=0.1.2->pulp) (2.4.7)\n",
            "Requirement already satisfied: docutils>=0.3 in /usr/local/lib/python3.6/dist-packages (from amply>=0.1.2->pulp) (0.16)\n",
            "2.3.1\n"
          ],
          "name": "stdout"
        }
      ]
    },
    {
      "cell_type": "code",
      "metadata": {
        "colab": {
          "base_uri": "https://localhost:8080/"
        },
        "id": "qm9zdHkwXZoS",
        "outputId": "202b269d-e4a0-4404-9a93-9f8084f91f51"
      },
      "source": [
        "pulp.pulpTestAll()"
      ],
      "execution_count": 23,
      "outputs": [
        {
          "output_type": "stream",
          "text": [
            ".................."
          ],
          "name": "stderr"
        },
        {
          "output_type": "stream",
          "text": [
            "Solver <class 'pulp.apis.coin_api.PULP_CBC_CMD'> available\n",
            "Solver <class 'pulp.apis.cplex_api.CPLEX_DLL'> unavailable\n",
            "Solver <class 'pulp.apis.cplex_api.CPLEX_CMD'> unavailable\n",
            "Solver <class 'pulp.apis.cplex_api.CPLEX_PY'> unavailable\n",
            "Solver <class 'pulp.apis.coin_api.COIN_CMD'> unavailable\n",
            "Solver <class 'pulp.apis.coin_api.COINMP_DLL'> unavailable\n",
            "Solver <class 'pulp.apis.glpk_api.GLPK_CMD'> unavailable\n",
            "Solver <class 'pulp.apis.xpress_api.XPRESS'> unavailable\n",
            "Solver <class 'pulp.apis.gurobi_api.GUROBI'> unavailable\n",
            "Solver <class 'pulp.apis.gurobi_api.GUROBI_CMD'> unavailable\n",
            "Solver <class 'pulp.apis.glpk_api.PYGLPK'> unavailable\n",
            "Solver <class 'pulp.apis.coin_api.YAPOSIB'> unavailable\n",
            "Solver <class 'pulp.apis.choco_api.PULP_CHOCO_CMD'> available\n",
            "Solver <class 'pulp.apis.choco_api.CHOCO_CMD'> unavailable\n",
            "Solver <class 'pulp.apis.mipcl_api.MIPCL_CMD'> unavailable\n",
            "Solver <class 'pulp.apis.mosek_api.MOSEK'> unavailable\n",
            "Solver <class 'pulp.apis.scip_api.SCIP_CMD'> unavailable\n",
            "\t Testing invalid status\n",
            "\t Testing continuous LP solution - export dict\n",
            "\t Testing MIP solution\n",
            "\t Testing maximize continuous LP solution\n",
            "\t Testing continuous LP solution - export JSON\n",
            "\t Testing continuous LP solution - export solver dict\n",
            "\t Testing continuous LP solution - export solver JSON\n",
            "\t Testing makeDict general behavior\n",
            "\t Testing makeDict default value behavior\n",
            "\t Testing the availability of the function pulpTestAll\n",
            "\t Testing zero subtraction\n",
            "\t Testing inconsistent lp solution\n",
            "\t Testing continuous LP solution\n",
            "\t Testing maximize continuous LP solution\n",
            "\t Testing unbounded continuous LP solution\n",
            "\t Testing Long Names\n",
            "\t Testing repeated Names\n"
          ],
          "name": "stdout"
        },
        {
          "output_type": "stream",
          "text": [
            "................"
          ],
          "name": "stderr"
        },
        {
          "output_type": "stream",
          "text": [
            "\t Testing zero constraint\n",
            "\t Testing zero objective\n",
            "\t Testing LpVariable (not LpAffineExpression) objective\n",
            "\t Testing Long lines in LP\n",
            "\t Testing LpAffineExpression divide\n",
            "\t Testing MIP solution\n",
            "\t Testing MIP solution with floats in objective\n",
            "\t Testing MIP solution\n",
            "\t Testing MIP solution\n",
            "\t Testing MIP relaxation\n",
            "\t Testing feasibility problem (no objective)\n",
            "\t Testing an infeasible problem\n",
            "\t Testing an integer infeasible problem\n",
            "\t Testing another integer infeasible problem\n",
            "\t Testing column based modelling\n"
          ],
          "name": "stdout"
        },
        {
          "output_type": "stream",
          "text": [
            ".........."
          ],
          "name": "stderr"
        },
        {
          "output_type": "stream",
          "text": [
            "\t Testing dual variables and slacks reporting\n",
            "\t Testing fractional constraints\n",
            "\t Testing elastic constraints (no change)\n",
            "\t Testing elastic constraints (freebound)\n",
            "\t Testing elastic constraints (penalty unchanged)\n",
            "\t Testing elastic constraints (penalty unbounded)\n",
            "\t Testing invalid status\n",
            "\t Testing continuous LP solution - export dict\n"
          ],
          "name": "stdout"
        },
        {
          "output_type": "stream",
          "text": [
            "."
          ],
          "name": "stderr"
        },
        {
          "output_type": "stream",
          "text": [
            "\t Testing MIP solution\n"
          ],
          "name": "stdout"
        },
        {
          "output_type": "stream",
          "text": [
            "."
          ],
          "name": "stderr"
        },
        {
          "output_type": "stream",
          "text": [
            "\t Testing maximize continuous LP solution\n"
          ],
          "name": "stdout"
        },
        {
          "output_type": "stream",
          "text": [
            "."
          ],
          "name": "stderr"
        },
        {
          "output_type": "stream",
          "text": [
            "\t Testing continuous LP solution - export JSON\n"
          ],
          "name": "stdout"
        },
        {
          "output_type": "stream",
          "text": [
            "."
          ],
          "name": "stderr"
        },
        {
          "output_type": "stream",
          "text": [
            "\t Testing continuous LP solution - export solver dict\n"
          ],
          "name": "stdout"
        },
        {
          "output_type": "stream",
          "text": [
            "."
          ],
          "name": "stderr"
        },
        {
          "output_type": "stream",
          "text": [
            "\t Testing continuous LP solution - export solver JSON\n"
          ],
          "name": "stdout"
        },
        {
          "output_type": "stream",
          "text": [
            "......."
          ],
          "name": "stderr"
        },
        {
          "output_type": "stream",
          "text": [
            "\t Testing makeDict general behavior\n",
            "\t Testing makeDict default value behavior\n",
            "\t Testing the availability of the function pulpTestAll\n",
            "\t Testing zero subtraction\n",
            "\t Testing inconsistent lp solution\n",
            "\t Testing continuous LP solution\n"
          ],
          "name": "stdout"
        },
        {
          "output_type": "stream",
          "text": [
            "."
          ],
          "name": "stderr"
        },
        {
          "output_type": "stream",
          "text": [
            "\t Testing maximize continuous LP solution\n"
          ],
          "name": "stdout"
        },
        {
          "output_type": "stream",
          "text": [
            ".."
          ],
          "name": "stderr"
        },
        {
          "output_type": "stream",
          "text": [
            "\t Testing unbounded continuous LP solution\n",
            "\t Testing Long Names\n"
          ],
          "name": "stdout"
        },
        {
          "output_type": "stream",
          "text": [
            ".."
          ],
          "name": "stderr"
        },
        {
          "output_type": "stream",
          "text": [
            "\t Testing repeated Names\n",
            "\t Testing zero constraint\n"
          ],
          "name": "stdout"
        },
        {
          "output_type": "stream",
          "text": [
            "."
          ],
          "name": "stderr"
        },
        {
          "output_type": "stream",
          "text": [
            "\t Testing zero objective\n"
          ],
          "name": "stdout"
        },
        {
          "output_type": "stream",
          "text": [
            "."
          ],
          "name": "stderr"
        },
        {
          "output_type": "stream",
          "text": [
            "\t Testing LpVariable (not LpAffineExpression) objective\n"
          ],
          "name": "stdout"
        },
        {
          "output_type": "stream",
          "text": [
            ".."
          ],
          "name": "stderr"
        },
        {
          "output_type": "stream",
          "text": [
            "\t Testing LpAffineExpression divide\n"
          ],
          "name": "stdout"
        },
        {
          "output_type": "stream",
          "text": [
            "."
          ],
          "name": "stderr"
        },
        {
          "output_type": "stream",
          "text": [
            "\t Testing MIP solution\n"
          ],
          "name": "stdout"
        },
        {
          "output_type": "stream",
          "text": [
            "."
          ],
          "name": "stderr"
        },
        {
          "output_type": "stream",
          "text": [
            "\t Testing MIP solution with floats in objective\n"
          ],
          "name": "stdout"
        },
        {
          "output_type": "stream",
          "text": [
            "."
          ],
          "name": "stderr"
        },
        {
          "output_type": "stream",
          "text": [
            "\t Testing MIP solution\n"
          ],
          "name": "stdout"
        },
        {
          "output_type": "stream",
          "text": [
            "."
          ],
          "name": "stderr"
        },
        {
          "output_type": "stream",
          "text": [
            "\t Testing MIP solution\n"
          ],
          "name": "stdout"
        },
        {
          "output_type": "stream",
          "text": [
            "./usr/local/lib/python3.6/dist-packages/pulp/apis/choco_api.py:83: UserWarning: CHOCO_CMD cannot solve the relaxation of a problem\n",
            "  warnings.warn(\"CHOCO_CMD cannot solve the relaxation of a problem\")\n"
          ],
          "name": "stderr"
        },
        {
          "output_type": "stream",
          "text": [
            "\t Testing MIP relaxation\n"
          ],
          "name": "stdout"
        },
        {
          "output_type": "stream",
          "text": [
            "."
          ],
          "name": "stderr"
        },
        {
          "output_type": "stream",
          "text": [
            "\t Testing feasibility problem (no objective)\n"
          ],
          "name": "stdout"
        },
        {
          "output_type": "stream",
          "text": [
            "."
          ],
          "name": "stderr"
        },
        {
          "output_type": "stream",
          "text": [
            "\t Testing an infeasible problem\n"
          ],
          "name": "stdout"
        },
        {
          "output_type": "stream",
          "text": [
            "."
          ],
          "name": "stderr"
        },
        {
          "output_type": "stream",
          "text": [
            "\t Testing an integer infeasible problem\n"
          ],
          "name": "stdout"
        },
        {
          "output_type": "stream",
          "text": [
            "."
          ],
          "name": "stderr"
        },
        {
          "output_type": "stream",
          "text": [
            "\t Testing another integer infeasible problem\n"
          ],
          "name": "stdout"
        },
        {
          "output_type": "stream",
          "text": [
            "."
          ],
          "name": "stderr"
        },
        {
          "output_type": "stream",
          "text": [
            "\t Testing column based modelling\n"
          ],
          "name": "stdout"
        },
        {
          "output_type": "stream",
          "text": [
            "....."
          ],
          "name": "stderr"
        },
        {
          "output_type": "stream",
          "text": [
            "\t Testing fractional constraints\n"
          ],
          "name": "stdout"
        },
        {
          "output_type": "stream",
          "text": [
            "."
          ],
          "name": "stderr"
        },
        {
          "output_type": "stream",
          "text": [
            "\t Testing elastic constraints (no change)\n"
          ],
          "name": "stdout"
        },
        {
          "output_type": "stream",
          "text": [
            "."
          ],
          "name": "stderr"
        },
        {
          "output_type": "stream",
          "text": [
            "\t Testing elastic constraints (freebound)\n"
          ],
          "name": "stdout"
        },
        {
          "output_type": "stream",
          "text": [
            "."
          ],
          "name": "stderr"
        },
        {
          "output_type": "stream",
          "text": [
            "\t Testing elastic constraints (penalty unchanged)\n"
          ],
          "name": "stdout"
        },
        {
          "output_type": "stream",
          "text": [
            "...................."
          ],
          "name": "stderr"
        },
        {
          "output_type": "stream",
          "text": [
            "\t Testing elastic constraints (penalty unbounded)\n"
          ],
          "name": "stdout"
        },
        {
          "output_type": "stream",
          "text": [
            "....................."
          ],
          "name": "stderr"
        },
        {
          "output_type": "stream",
          "text": [
            "{'a': 53.0, 'b': 45.3, 'c': 459.2}\n"
          ],
          "name": "stdout"
        },
        {
          "output_type": "stream",
          "text": [
            ".....\n",
            "----------------------------------------------------------------------\n",
            "Ran 129 tests in 36.811s\n",
            "\n",
            "OK\n"
          ],
          "name": "stderr"
        }
      ]
    },
    {
      "cell_type": "code",
      "metadata": {
        "id": "WT4arZtwXcKo"
      },
      "source": [
        "from pulp import *"
      ],
      "execution_count": 26,
      "outputs": []
    },
    {
      "cell_type": "markdown",
      "metadata": {
        "id": "S_KgySPGXpF0"
      },
      "source": [
        "Problem maksymalizacji, zatem *LpMaximize*"
      ]
    },
    {
      "cell_type": "code",
      "metadata": {
        "id": "cHngK8x_Xnnt"
      },
      "source": [
        "prob = LpProblem(\"The_Resistance_Problem_2\", LpMaximize)"
      ],
      "execution_count": 27,
      "outputs": []
    },
    {
      "cell_type": "markdown",
      "metadata": {
        "id": "y_zegT_3XvIC"
      },
      "source": [
        "Za zmienne przyjęto wartości prądów w gałęziach"
      ]
    },
    {
      "cell_type": "code",
      "metadata": {
        "id": "9lr8WADjXsq8"
      },
      "source": [
        "i1 = LpVariable(\"I1_Curr\", -5, 5, LpContinuous)\r\n",
        "i2 = LpVariable(\"I2_Curr\", -5, 5, LpContinuous)\r\n",
        "i3 = LpVariable(\"I3_Curr\", -5, 5, LpContinuous)\r\n",
        "i4 = LpVariable(\"I4_Curr\", -5, 5, LpContinuous)\r\n",
        "i5 = LpVariable(\"I5_Curr\", -5, 5, LpContinuous)"
      ],
      "execution_count": 28,
      "outputs": []
    },
    {
      "cell_type": "markdown",
      "metadata": {
        "id": "ClSA2tF0X0XL"
      },
      "source": [
        "Funkcja do optymalizacji:"
      ]
    },
    {
      "cell_type": "code",
      "metadata": {
        "id": "qiqN5NfLXz4D"
      },
      "source": [
        "prob += i1  + i2 + i3 + i4 + i5, \"biggest current\""
      ],
      "execution_count": 29,
      "outputs": []
    },
    {
      "cell_type": "markdown",
      "metadata": {
        "id": "y4cSCLZTX75r"
      },
      "source": [
        "Ograniczenia - należało wykorzystać oprócz oczywistych ograniczeń prądów do wartości maksymalnych także prądowe oraz napięciowe prawa Kirchhoffa"
      ]
    },
    {
      "cell_type": "code",
      "metadata": {
        "id": "9_Riw3ITYJFZ"
      },
      "source": [
        "prob += i1 <= 2, \"I1_Curr__constraint\"\r\n",
        "prob += i2 <= 3, \"I2_Curr__constraint\"\r\n",
        "prob += i3 <= 4, \"I3_Curr__constraint\"\r\n",
        "prob += i4 <= 2, \"I4_Curr__constraint\"\r\n",
        "prob += i5 <= 2, \"I5_Curr__constraint\"\r\n",
        "\r\n",
        "prob += i1 + i2 - i3 == 0, \"PPK_constraint_1\"\r\n",
        "prob += i4 + i5 - i3 == 0, \"PPK_constraint_2\"\r\n",
        "\r\n",
        "prob += i1*8 - i2*6 == 0, \"NPK_constraint_1\"\r\n",
        "prob += i4*10 - i5*8 == 0, \"NPK_constraint_2\""
      ],
      "execution_count": 30,
      "outputs": []
    },
    {
      "cell_type": "code",
      "metadata": {
        "colab": {
          "base_uri": "https://localhost:8080/"
        },
        "id": "L1EjlxDMYJ1r",
        "outputId": "de238486-6e05-4f95-e33d-ec3dedf742b8"
      },
      "source": [
        "prob.writeLP(\"Resistance_2_Model.lp\")"
      ],
      "execution_count": 32,
      "outputs": [
        {
          "output_type": "execute_result",
          "data": {
            "text/plain": [
              "[I1_Curr, I2_Curr, I3_Curr, I4_Curr, I5_Curr]"
            ]
          },
          "metadata": {
            "tags": []
          },
          "execution_count": 32
        }
      ]
    },
    {
      "cell_type": "code",
      "metadata": {
        "colab": {
          "base_uri": "https://localhost:8080/"
        },
        "id": "r0VgbLJnYLS-",
        "outputId": "b9d417bf-f230-49c3-aecc-2b48145e26c7"
      },
      "source": [
        "prob.solve()"
      ],
      "execution_count": 33,
      "outputs": [
        {
          "output_type": "execute_result",
          "data": {
            "text/plain": [
              "1"
            ]
          },
          "metadata": {
            "tags": []
          },
          "execution_count": 33
        }
      ]
    },
    {
      "cell_type": "code",
      "metadata": {
        "colab": {
          "base_uri": "https://localhost:8080/"
        },
        "id": "wgJAo61eYMRV",
        "outputId": "bdf7b724-d5bd-4837-c4a0-39b99db1b99a"
      },
      "source": [
        "print(\"Status:\", LpStatus[prob.status])"
      ],
      "execution_count": 34,
      "outputs": [
        {
          "output_type": "stream",
          "text": [
            "Status: Optimal\n"
          ],
          "name": "stdout"
        }
      ]
    },
    {
      "cell_type": "markdown",
      "metadata": {
        "id": "tD0vfvqrYU4j"
      },
      "source": [
        "Największy prąd wyznaczono jako wartość największą spośród 5 wartości. "
      ]
    },
    {
      "cell_type": "code",
      "metadata": {
        "colab": {
          "base_uri": "https://localhost:8080/"
        },
        "id": "6kStYRsFYO_l",
        "outputId": "c7e37c98-b6f6-4daf-ea35-7fc3de91a0db"
      },
      "source": [
        "best_curr = 0\r\n",
        "for v in prob.variables():\r\n",
        "    print(v.name, \"=\", v.varValue)\r\n",
        "    if v.varValue > best_curr:\r\n",
        "        best_curr = v.varValue\r\n",
        "print(\"Najwiekszy prad w ukladzie to: \",best_curr, \"A\" )\r\n"
      ],
      "execution_count": 35,
      "outputs": [
        {
          "output_type": "stream",
          "text": [
            "I1_Curr = 1.5428571\n",
            "I2_Curr = 2.0571429\n",
            "I3_Curr = 3.6\n",
            "I4_Curr = 1.6\n",
            "I5_Curr = 2.0\n",
            "Najwiekszy prad w ukladzie to:  3.6 A\n"
          ],
          "name": "stdout"
        }
      ]
    }
  ]
}