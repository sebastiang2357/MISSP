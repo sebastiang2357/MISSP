{
  "nbformat": 4,
  "nbformat_minor": 0,
  "metadata": {
    "colab": {
      "name": "Projekt_ML (1).ipynb",
      "provenance": [],
      "collapsed_sections": []
    },
    "kernelspec": {
      "name": "python3",
      "display_name": "Python 3"
    }
  },
  "cells": [
    {
      "cell_type": "markdown",
      "metadata": {
        "id": "AHnMt0cIhw2d"
      },
      "source": [
        "#**Zajęcia nr 8**\r\n",
        "## Projekt Machine Learning *Titanic - Machine Learning from Disaster*\r\n",
        "\r\n",
        "Zajęcia nr 8 podsumowywały poruszony temat Machine Learning. Należało wziąć udział w dowolnym konkursie z działu *Compete* na stronie Kaggle. Polegało to na stworzeniu własnego modelu i zgłoszeniu go do konkursu. Następnie po zgłoszeniu model był oceniany i otrzymywał punktację - im bliżej wartości 1, tym model dokładniejszy, a więc lepszy. \r\n"
      ]
    },
    {
      "cell_type": "markdown",
      "metadata": {
        "id": "9232Gfpav7Dx"
      },
      "source": [
        "##**Zadanie do wykonania**\r\n",
        "\r\n",
        "---\r\n",
        "Postanowiono wziąć udział w konkursie o nazwie *Titanic - Machine Learning from Disaster* ze względu na jego przystępność oraz dobre wprowadzenie w zagadnienie *Competition*. Jako, że istnieje możliwość zgłaszania wielu modeli do jednego konkursu, stworzono ich kilka i zebrano oceny, jakie otrzymały po zgłoszeniu.  \r\n",
        "\r\n"
      ]
    },
    {
      "cell_type": "markdown",
      "metadata": {
        "id": "NWcVMC3f5zfv"
      },
      "source": [
        "###**Wprowadzenie**\r\n",
        "\r\n",
        "W konkurencji należało przewidzieć na podstawie danych pasażerów biorących udział w rejsie statku Titanic, kto z nich przeżył katastrofę. \r\n",
        "\r\n",
        "Zapoznano się z danymi udostępnionymi w zakładce konkursu. zebrane zostały one w 3 plikach .csv:\r\n",
        "- *train* - zawierał dane, które można było użyć do uczenia modelu takie jak imię, nazwisko, wiek czy ID pokładowe pasażerów oraz informację o tym, **czy przeżyli**\r\n",
        "- *test* - to dane ponad 400 pasażerów użyte do przewidywania przez model, kto z nich przeżył. **Nie zawierały one informacji o tym, kto przeżył**\r\n",
        "- *gender_submission* - plik pokazowy służący do sprawdzenia, jak powinny wyglądać prawidłowo przygotowane dane konkursowe. Stanowił on pierwsze zgłoszenie konkursowe. \r\n",
        "\r\n",
        "\r\n",
        "\r\n",
        "\r\n",
        "\r\n"
      ]
    },
    {
      "cell_type": "markdown",
      "metadata": {
        "id": "euYn1Wc20MtV"
      },
      "source": [
        "###**Pierwsze zgłoszenie konkursowe - model płciowy**\r\n",
        "\r\n",
        "W celu przećwiczenia procedury wysyłania zgłoszenia, użyto pliku *gender_submission*, zawierającego dwie kolumny: ID pasażera *PassengerID* oraz oznaczenie, czy przeżył -  *Survived*. Dzielił on pasażerów pod względem płci następująco:\r\n",
        "- kobieta - pasażer przeżył, 1 w kolumne *Survived*\r\n",
        "- mężczyzna - pasażer nie przeżył, 0 w kolumne *Survived* \r\n",
        "\r\n",
        "Aby sprawdzić, czy przewidywania są słuszne, stworzono Notebook Kaggle, który domyślnie skonfigurowany jest następująco:"
      ]
    },
    {
      "cell_type": "code",
      "metadata": {
        "id": "FSMAYdcD7FwE"
      },
      "source": [
        "# This Python 3 environment comes with many helpful analytics libraries installed\r\n",
        "# It is defined by the kaggle/python Docker image: https://github.com/kaggle/docker-python\r\n",
        "# For example, here's several helpful packages to load\r\n",
        "\r\n",
        "import numpy as np # linear algebra\r\n",
        "import pandas as pd # data processing, CSV file I/O (e.g. pd.read_csv)\r\n",
        "\r\n",
        "# Input data files are available in the read-only \"../input/\" directory\r\n",
        "# For example, running this (by clicking run or pressing Shift+Enter) will list all files under the input directory\r\n",
        "\r\n",
        "import os\r\n",
        "for dirname, _, filenames in os.walk('/kaggle/input'):\r\n",
        "    for filename in filenames:\r\n",
        "        print(os.path.join(dirname, filename))\r\n",
        "\r\n",
        "# You can write up to 20GB to the current directory (/kaggle/working/) that gets preserved as output when you create a version using \"Save & Run All\" \r\n",
        "# You can also write temporary files to /kaggle/temp/, but they won't be saved outside of the current session"
      ],
      "execution_count": null,
      "outputs": []
    },
    {
      "cell_type": "markdown",
      "metadata": {
        "id": "TauioSST7cTn"
      },
      "source": [
        "wczytano do niego dane *train* oraz *test* oraz sprawdzono ich poprawność:"
      ]
    },
    {
      "cell_type": "code",
      "metadata": {
        "id": "6hDdwr7U7xy1"
      },
      "source": [
        "train_data = pd.read_csv(\"/kaggle/input/titanic/train.csv\")\r\n",
        "train_data.head()\r\n",
        "\r\n",
        "test_data = pd.read_csv(\"/kaggle/input/titanic/test.csv\")\r\n",
        "test_data.head()"
      ],
      "execution_count": null,
      "outputs": []
    },
    {
      "cell_type": "markdown",
      "metadata": {
        "id": "5SB4S00w73LK"
      },
      "source": [
        "Obliczono procent pasażerów poszczególnych płci, którzy przeżyli:"
      ]
    },
    {
      "cell_type": "code",
      "metadata": {
        "id": "fVXEgev88Sbj"
      },
      "source": [
        "women = train_data.loc[train_data.Sex == 'female'][\"Survived\"]\r\n",
        "rate_women = sum(women)/len(women)\r\n",
        "\r\n",
        "print(\"% of women who survived:\", rate_women)\r\n",
        "\r\n",
        "men = train_data.loc[train_data.Sex == 'male'][\"Survived\"]\r\n",
        "rate_men = sum(men)/len(men)\r\n",
        "\r\n",
        "print(\"% of men who survived:\", rate_men)"
      ],
      "execution_count": null,
      "outputs": []
    },
    {
      "cell_type": "markdown",
      "metadata": {
        "id": "ItFeUdpz9VZM"
      },
      "source": [
        "Tabela z wynikami:\r\n",
        "\r\n",
        "| Płeć      | Przeżywalność w % |\r\n",
        "|-----------|-------------------|\r\n",
        "| Kobieta   | 74.2              |\r\n",
        "| Mężczyzna | 18.8              |\r\n",
        "\r\n",
        "Jak widać, płeć wydawała się być bardzo ważnym czynnikiem pozwalającym na przeżycie katastrofy przez pasażera, zatem dobrym pomysłem jest użycie jej jako jednego z parametrów kolejnych modeli. Po zgłoszeniu pliku z przewidywaniami, otrzymał on punktację 0.76555. "
      ]
    },
    {
      "cell_type": "markdown",
      "metadata": {
        "id": "huhqlfl65lDP"
      },
      "source": [
        "###**Model 1 - *Decision Tree Classifier*** \r\n",
        "\r\n",
        "Zaczęto od pierwszego typu modelu uczenia maszynowego o nazwie *Decision Tree Regressor*. Ma on postać drzewa decyzyjnego z gałęziami pnącymi się w dół. Każde rozgałęzienie to podział danych wejściowych na dwie części w zależności od parametru, który ma decydować o podziale i ich klasyfikacja. \r\n",
        "\r\n",
        "Poniżej (oraz w kolejnych podpunktach) przedstawiono część programu odpowiedzialną za naukę modelu - reszta kodu wyglądała podobnie jak w punkcie **Pierwsze zgłoszenie konkursowe**\r\n",
        "\r\n",
        "**Parametry modelu**\r\n",
        "- `max_depth=5` - maksymalna ilość rozgałęzień drzewa\r\n",
        "- `random_state=1` - zapobiega losowości w trenowaniu modelu, przez co uzyskiwany wynik za każdym razem jest taki sam"
      ]
    },
    {
      "cell_type": "code",
      "metadata": {
        "id": "g2zwADilsona"
      },
      "source": [
        "from sklearn.tree import DecisionTreeClassifier\r\n",
        "\r\n",
        "y = train_data[\"Survived\"]\r\n",
        "\r\n",
        "features = [\"Pclass\", \"Sex\", \"SibSp\", \"Parch\"]\r\n",
        "X = pd.get_dummies(train_data[features])\r\n",
        "X_test = pd.get_dummies(test_data[features])\r\n",
        "\r\n",
        "model = DecisionTreeClassifier(random_state=1, max_depth = 5)\r\n",
        "model.fit(X, y)\r\n",
        "predictions = model.predict(X_test)\r\n",
        "\r\n",
        "output = pd.DataFrame({'PassengerId': test_data.PassengerId, 'Survived': predictions})\r\n",
        "output.to_csv('DTRsubmission.csv', index=False)\r\n",
        "print(\"Your submission was successfully saved!\")"
      ],
      "execution_count": null,
      "outputs": []
    },
    {
      "cell_type": "markdown",
      "metadata": {
        "id": "pYUcDD7FsqKk"
      },
      "source": [
        "Otrzymany wynik za zgłoszenie przewidywań tego modelu to 0.77033"
      ]
    },
    {
      "cell_type": "markdown",
      "metadata": {
        "id": "-TEFFjWjJt0N"
      },
      "source": [
        "###**Model 2 - *Random Forest Classifier*** \r\n",
        "\r\n",
        "Kolejny typ modelu to *Random Forest Classifier*, czyli tworzenie wielu drzew taich jak w modelu 1 z losowymi parametrami decydującymi o rozgałęzieniach, a następnie klasyfikacja przez każde drzewo przeżywalności pasażera. Na koniec w wyniku demokratycznego wyboru, sumując predycykcje każdego z drzew, ustalane jest przewidywanie końcowe.\r\n",
        "\r\n",
        "####**Wersja 1**\r\n",
        "\r\n",
        "**Parametry modelu**\r\n",
        "- `n_estimators=100` - ilość wygenerowanych drzew\r\n",
        "- `max_depth=5` - maksymalna ilość rozgałęzień drzewa\r\n",
        "- `random_state=1` - zapobiega losowości w trenowaniu modelu, przez co uzyskiwany wynik za każdym razem jest taki sam"
      ]
    },
    {
      "cell_type": "code",
      "metadata": {
        "id": "Y1OVajxZw1pc"
      },
      "source": [
        "from sklearn.ensemble import RandomForestClassifier\r\n",
        "\r\n",
        "y = train_data[\"Survived\"]\r\n",
        "\r\n",
        "features = [\"Pclass\", \"Sex\", \"SibSp\", \"Parch\"]\r\n",
        "X = pd.get_dummies(train_data[features])\r\n",
        "X_test = pd.get_dummies(test_data[features])\r\n",
        "\r\n",
        "model = RandomForestClassifier(n_estimators=100, max_depth=5, random_state=1)\r\n",
        "model.fit(X, y)\r\n",
        "predictions = model.predict(X_test)\r\n",
        "\r\n",
        "output = pd.DataFrame({'PassengerId': test_data.PassengerId, 'Survived': predictions})\r\n",
        "output.to_csv('my_submission.csv', index=False)\r\n",
        "print(\"Your submission was successfully saved!\")"
      ],
      "execution_count": null,
      "outputs": []
    },
    {
      "cell_type": "markdown",
      "metadata": {
        "id": "MAvqtMIq1oxn"
      },
      "source": [
        "Otrzymany wynik: 0.77511"
      ]
    },
    {
      "cell_type": "markdown",
      "metadata": {
        "id": "d4ntju8f1fzr"
      },
      "source": [
        "####**Wersja 2**\r\n",
        "\r\n",
        "**Parametry modelu**\r\n",
        "- `n_estimators=500`\r\n",
        "- `max_depth=7`\r\n",
        "- `random_state=1`"
      ]
    },
    {
      "cell_type": "code",
      "metadata": {
        "id": "zFB0NLM8hJ4_"
      },
      "source": [
        "from sklearn.ensemble import RandomForestClassifier\r\n",
        "\r\n",
        "y = train_data[\"Survived\"]\r\n",
        "\r\n",
        "features = [\"Pclass\", \"Sex\", \"SibSp\", \"Parch\"]\r\n",
        "X = pd.get_dummies(train_data[features])\r\n",
        "X_test = pd.get_dummies(test_data[features])\r\n",
        "\r\n",
        "model = RandomForestClassifier(n_estimators=500, max_depth=7, random_state=1)\r\n",
        "model.fit(X, y)\r\n",
        "predictions = model.predict(X_test)\r\n",
        "\r\n",
        "\r\n",
        "output = pd.DataFrame({'PassengerId': test_data.PassengerId, 'Survived': predictions})\r\n",
        "output.to_csv('my_submission.csv', index=False)\r\n",
        "print(\"Your submission was successfully saved!\")"
      ],
      "execution_count": null,
      "outputs": []
    },
    {
      "cell_type": "markdown",
      "metadata": {
        "id": "zPFitl-N1wzL"
      },
      "source": [
        "Otrzymany wynik: 0.77751"
      ]
    },
    {
      "cell_type": "markdown",
      "metadata": {
        "id": "HEy5sNVZ3iA3"
      },
      "source": [
        "###**Model 3 - *Extra Trees Classifier*** \r\n",
        "\r\n",
        "Ostatni model jaki wzięto pod uwagę, to *Extra Trees Classifier*. Tworzy on szereg drzew decyzyjnych, które używają do przewidywań podzbioru zestawu danych do uczenia. Następnie wykorzystane zostaje uśrednianie, które zapobiega zjawisku *over-fittingu*.\r\n",
        "\r\n",
        "**Parametry modelu**\r\n",
        "\r\n",
        "**Parametry modelu**\r\n",
        "- `n_estimators=100` - ilość wygenerowanych drzew\r\n",
        "- `max_depth=5` - maksymalna ilość rozgałęzień drzewa\r\n",
        "- `random_state=1` - zapobiega losowości w trenowaniu modelu, przez co uzyskiwany wynik za każdym razem jest taki sam"
      ]
    },
    {
      "cell_type": "code",
      "metadata": {
        "id": "mEi0Oc8G8khT"
      },
      "source": [
        "from sklearn.ensemble import ExtraTreesClassifier\r\n",
        "\r\n",
        "y = train_data[\"Survived\"]\r\n",
        "\r\n",
        "features = [\"Pclass\", \"Sex\", \"SibSp\", \"Parch\"]\r\n",
        "X = pd.get_dummies(train_data[features])\r\n",
        "X_test = pd.get_dummies(test_data[features])\r\n",
        "\r\n",
        "model = ExtraTreesClassifier(n_estimators=100, max_depth=5, random_state=1)\r\n",
        "model.fit(X, y)\r\n",
        "predictions = model.predict(X_test)\r\n",
        "\r\n",
        "output = pd.DataFrame({'PassengerId': test_data.PassengerId, 'Survived': predictions})\r\n",
        "output.to_csv('ETCsubmission.csv', index=False)\r\n",
        "print(\"Your submission was successfully saved!\")"
      ],
      "execution_count": null,
      "outputs": []
    },
    {
      "cell_type": "markdown",
      "metadata": {
        "id": "JLCo-MIo8ydM"
      },
      "source": [
        "Wynik po zgłoszeniu predykcji: 0.77272"
      ]
    },
    {
      "cell_type": "markdown",
      "metadata": {
        "id": "SyP6EnW087xd"
      },
      "source": [
        "###**Podsumowanie**\r\n",
        "\r\n",
        "Poniżej przedstawiono tabelę z zebranymi wynikami każdego z modeli:\r\n",
        "\r\n",
        "| Model                       | Wynik   |\r\n",
        "|-----------------------------|---------|\r\n",
        "| Model płciowy               | 0.76555 |\r\n",
        "| Decision Tree Classifier    | 0.77033 |\r\n",
        "| Random Forest Classifier v1 | 0.77511 |\r\n",
        "| Random Forest Classifier v2 | 0.77751 |\r\n",
        "| Extra Trees Classifier      | 0.77272 |\r\n",
        "\r\n",
        "Wnioski:\r\n",
        "- najlepszy wynik otrzymał model używający *Random Forest Classifier* w wersji 2. Miało to zapewne związek z większą ilością generowanych drzew oraz ich wielkością. Przy zmianie parametru `max_depth` należało mieć na uwadze zjawisko *over - fittingu*: model mógł być zbyt dokładny, przez co tracił zdolność uogólniania\r\n",
        "- dla takich samych wartości parametrów Random Forest Classifier oraz Extra Trees Classifier lepiej spisał się ten pierwszy.\r\n",
        "- przewidywanie na podstawie płci otrzymało wysoki wynik w porównaniu z innymi modelami, pozostając przy tym najmniej skommplikowaną metodą.\r\n",
        "- wszystkie przetestowane modele (oprócz modelu płciowego) otrzymały wyniki nieznacznie różniące się od siebie - ocena różniła się dopiero od 3 miejsca po przecinku. \r\n"
      ]
    }
  ]
}