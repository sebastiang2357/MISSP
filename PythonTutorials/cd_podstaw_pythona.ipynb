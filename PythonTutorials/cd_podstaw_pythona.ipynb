{
  "nbformat": 4,
  "nbformat_minor": 0,
  "metadata": {
    "kernelspec": {
      "display_name": "Python 3",
      "language": "python",
      "name": "python3"
    },
    "language_info": {
      "codemirror_mode": {
        "name": "ipython",
        "version": 3
      },
      "file_extension": ".py",
      "mimetype": "text/x-python",
      "name": "python",
      "nbconvert_exporter": "python",
      "pygments_lexer": "ipython3",
      "version": "3.8.3"
    },
    "colab": {
      "name": "cd_podstaw_pythona.ipynb",
      "provenance": []
    }
  },
  "cells": [
    {
      "cell_type": "markdown",
      "metadata": {
        "id": "FCgFisAz67CY"
      },
      "source": [
        "#**Zajęcia nr 2**\n",
        "## Podstawy języka Python - ciąg dalszy\n",
        "Podczas zajęć omawiane oraz pokazane zostały kolejne zagadnienia dotyczące języka Python. Szczególną uwaga zwrócona była na to, że Python jest językiem obiektowym. Ponadto można było zapoznać się budową klasy. Na koniec należało, tak jak na Zajęciach nr 1 wykonać ćwiczenia podsumowujące zdobytą wiedzę. "
      ]
    },
    {
      "cell_type": "markdown",
      "metadata": {
        "id": "ldPllQ-19SvD"
      },
      "source": [
        "##**Przykłady**\n",
        "\n",
        "---\n",
        "\n",
        "\n",
        "####Zapoznanie się ze strukturami danych: lista, krotka oraz wektor oraz możliwością działania na nich"
      ]
    },
    {
      "cell_type": "code",
      "metadata": {
        "id": "YRRXb16r5PNa"
      },
      "source": [
        "import numpy as np"
      ],
      "execution_count": null,
      "outputs": []
    },
    {
      "cell_type": "code",
      "metadata": {
        "id": "UC5-qrvM5PNb"
      },
      "source": [
        "a_list= [1,2,3,4,5, [1,2,3], \"temat\"] # nie idealna lista\n",
        "k_krotka = (1,2,3,4,5, [1,2,3], \"temat\")\n",
        "b_list = [1,2,3,4,5]\n",
        "n_array = np.array(b_list) # wektor numpy\n"
      ],
      "execution_count": null,
      "outputs": []
    },
    {
      "cell_type": "code",
      "metadata": {
        "id": "_vSErXM85PNb",
        "outputId": "ef941eca-434f-40b6-9396-6565500fb1c5"
      },
      "source": [
        "a_list+b_list\n",
        "n_array+n_array"
      ],
      "execution_count": null,
      "outputs": [
        {
          "output_type": "execute_result",
          "data": {
            "text/plain": [
              "array([ 2,  4,  6,  8, 10])"
            ]
          },
          "metadata": {
            "tags": []
          },
          "execution_count": 7
        }
      ]
    },
    {
      "cell_type": "code",
      "metadata": {
        "id": "niCJTwwf5PNc",
        "outputId": "7b3b26ca-e776-4801-f2c1-46cba5a7e5f2"
      },
      "source": [
        "a_list[3]"
      ],
      "execution_count": null,
      "outputs": [
        {
          "output_type": "execute_result",
          "data": {
            "text/plain": [
              "4"
            ]
          },
          "metadata": {
            "tags": []
          },
          "execution_count": 8
        }
      ]
    },
    {
      "cell_type": "code",
      "metadata": {
        "id": "VjcaPtDX5PNc",
        "outputId": "8b581ee0-7d03-43ea-abf3-53b6514c38a2"
      },
      "source": [
        "a_list.append(100)\n",
        "print(a_list)"
      ],
      "execution_count": null,
      "outputs": [
        {
          "output_type": "stream",
          "text": [
            "[1, 2, 3, 4, 5, [1, 2, 3], 'temat', 100]\n"
          ],
          "name": "stdout"
        }
      ]
    },
    {
      "cell_type": "code",
      "metadata": {
        "id": "7DXc8SQA5PNc",
        "outputId": "fa1c9b57-803a-4cca-cd3a-a0bb6e4fe968"
      },
      "source": [
        "k_krotka[4]"
      ],
      "execution_count": null,
      "outputs": [
        {
          "output_type": "execute_result",
          "data": {
            "text/plain": [
              "5"
            ]
          },
          "metadata": {
            "tags": []
          },
          "execution_count": 10
        }
      ]
    },
    {
      "cell_type": "code",
      "metadata": {
        "id": "54DrthA45PNc",
        "outputId": "f9caa318-e53f-491e-cccc-3b238b7382bb"
      },
      "source": [
        "k_krotka.append(100)"
      ],
      "execution_count": null,
      "outputs": [
        {
          "output_type": "error",
          "ename": "AttributeError",
          "evalue": "'tuple' object has no attribute 'append'",
          "traceback": [
            "\u001b[1;31m---------------------------------------------------------------------------\u001b[0m",
            "\u001b[1;31mAttributeError\u001b[0m                            Traceback (most recent call last)",
            "\u001b[1;32m<ipython-input-11-4da2f0146474>\u001b[0m in \u001b[0;36m<module>\u001b[1;34m\u001b[0m\n\u001b[1;32m----> 1\u001b[1;33m \u001b[0mk_krotka\u001b[0m\u001b[1;33m.\u001b[0m\u001b[0mappend\u001b[0m\u001b[1;33m(\u001b[0m\u001b[1;36m100\u001b[0m\u001b[1;33m)\u001b[0m\u001b[1;33m\u001b[0m\u001b[1;33m\u001b[0m\u001b[0m\n\u001b[0m",
            "\u001b[1;31mAttributeError\u001b[0m: 'tuple' object has no attribute 'append'"
          ]
        }
      ]
    },
    {
      "cell_type": "code",
      "metadata": {
        "id": "X2if4yam5PNd",
        "outputId": "5507a5c1-e094-4d75-853e-1b4d93c3b2ab"
      },
      "source": [
        "np.array(b_list)+np.array(b_list)"
      ],
      "execution_count": null,
      "outputs": [
        {
          "output_type": "execute_result",
          "data": {
            "text/plain": [
              "array([ 2,  4,  6,  8, 10])"
            ]
          },
          "metadata": {
            "tags": []
          },
          "execution_count": 8
        }
      ]
    },
    {
      "cell_type": "code",
      "metadata": {
        "id": "0-DCM5Yr5PNd"
      },
      "source": [
        "n_array = np.array(a_list) # wektor numpy"
      ],
      "execution_count": null,
      "outputs": []
    },
    {
      "cell_type": "code",
      "metadata": {
        "id": "fJ0565zG5PNd",
        "outputId": "fb3a7152-9e68-4903-c3fb-1d058dc53987"
      },
      "source": [
        "n_array"
      ],
      "execution_count": null,
      "outputs": [
        {
          "output_type": "execute_result",
          "data": {
            "text/plain": [
              "array([1, 2, 3, 4, 5, list([1, 2, 3]), 'temat'], dtype=object)"
            ]
          },
          "metadata": {
            "tags": []
          },
          "execution_count": 10
        }
      ]
    },
    {
      "cell_type": "markdown",
      "metadata": {
        "id": "UH_kJrrA9vA0"
      },
      "source": [
        "####Poznanie struktury o nazwie słownik - bardzo przydatnej w programowaniu liniowym"
      ]
    },
    {
      "cell_type": "code",
      "metadata": {
        "id": "K6HJB0Ra5PNd"
      },
      "source": [
        "#### Nowosci\n",
        "\n",
        "studenci_slownik = {123: 123,\"Igor\":3, \"Frankek\":5, \"Zosia\":22,\"Julia\":[2,21], (1,2):\"Krotka\"}"
      ],
      "execution_count": null,
      "outputs": []
    },
    {
      "cell_type": "code",
      "metadata": {
        "id": "iEmaJZR35PNd",
        "outputId": "4d5431be-8a53-4055-f1b8-1eecac632ff3"
      },
      "source": [
        "print(studenci_slownik)"
      ],
      "execution_count": null,
      "outputs": [
        {
          "output_type": "stream",
          "text": [
            "{123: 123, 'Igor': 3, 'Frankek': 5, 'Zosia': 22, 'Julia': [2, 21], (1, 2): 'Krotka'}\n"
          ],
          "name": "stdout"
        }
      ]
    },
    {
      "cell_type": "code",
      "metadata": {
        "id": "pcvnsk8L5PNd",
        "outputId": "18722dea-8aae-4e8a-f3ee-0b6b05d1619b"
      },
      "source": [
        "studenci_slownik[\"Zosia\"]"
      ],
      "execution_count": null,
      "outputs": [
        {
          "output_type": "execute_result",
          "data": {
            "text/plain": [
              "22"
            ]
          },
          "metadata": {
            "tags": []
          },
          "execution_count": 21
        }
      ]
    },
    {
      "cell_type": "code",
      "metadata": {
        "id": "QW_0-3Gy5PNd",
        "outputId": "f6740df5-3113-4249-ffcd-f17b12094bc0"
      },
      "source": [
        "for elementy in studenci_slownik:\n",
        "    print(elementy)\n",
        "\n",
        "print(\"*\"*20)\n",
        "for elementy in studenci_slownik.keys():\n",
        "    print(elementy)"
      ],
      "execution_count": null,
      "outputs": [
        {
          "output_type": "stream",
          "text": [
            "123\n",
            "Igor\n",
            "Frankek\n",
            "Zosia\n",
            "Julia\n",
            "(1, 2)\n",
            "********************\n",
            "123\n",
            "Igor\n",
            "Frankek\n",
            "Zosia\n",
            "Julia\n",
            "(1, 2)\n"
          ],
          "name": "stdout"
        }
      ]
    },
    {
      "cell_type": "code",
      "metadata": {
        "id": "_goQgIR95PNd",
        "outputId": "6c4cb95d-a916-473d-ceb8-3fb6df7a7d82"
      },
      "source": [
        "for elementy in studenci_slownik.items():\n",
        "    print(elementy)"
      ],
      "execution_count": null,
      "outputs": [
        {
          "output_type": "stream",
          "text": [
            "('Igor', 3)\n",
            "('Frankek', 5)\n",
            "('Zosia', 22)\n",
            "('Julia', [2, 21])\n"
          ],
          "name": "stdout"
        }
      ]
    },
    {
      "cell_type": "code",
      "metadata": {
        "id": "xIvfiKlq5PNd",
        "outputId": "263c5dae-bac6-4fad-f773-d131656976b1"
      },
      "source": [
        "for elementy in studenci_slownik.values():\n",
        "    print(elementy)"
      ],
      "execution_count": null,
      "outputs": [
        {
          "output_type": "stream",
          "text": [
            "3\n",
            "5\n",
            "22\n",
            "[2, 21]\n"
          ],
          "name": "stdout"
        }
      ]
    },
    {
      "cell_type": "code",
      "metadata": {
        "id": "M1XQD-x15PNd"
      },
      "source": [
        "studenci_slownik[\"Cuthulu\"]= -1000000"
      ],
      "execution_count": null,
      "outputs": []
    },
    {
      "cell_type": "code",
      "metadata": {
        "id": "6myjN7LF5PNd",
        "outputId": "abf0e26b-7622-4bb9-9860-6d011eeb3278"
      },
      "source": [
        "studenci_slownik"
      ],
      "execution_count": null,
      "outputs": [
        {
          "output_type": "execute_result",
          "data": {
            "text/plain": [
              "{'Igor': 3, 'Frankek': 5, 'Zosia': 22, 'Julia': [2, 21], 'Cuthulu': -1000000}"
            ]
          },
          "metadata": {
            "tags": []
          },
          "execution_count": 31
        }
      ]
    },
    {
      "cell_type": "code",
      "metadata": {
        "id": "nQ2uZZ2K5PNd",
        "outputId": "89321e08-00a1-4984-df81-54b4ea46eb04"
      },
      "source": [
        "automatyczna_lista=[liczba**2 for liczba in range(100) if liczba%4==0]\n",
        "print(automatyczna_lista)"
      ],
      "execution_count": null,
      "outputs": [
        {
          "output_type": "stream",
          "text": [
            "[0, 16, 64, 144, 256, 400, 576, 784, 1024, 1296, 1600, 1936, 2304, 2704, 3136, 3600, 4096, 4624, 5184, 5776, 6400, 7056, 7744, 8464, 9216]\n"
          ],
          "name": "stdout"
        }
      ]
    },
    {
      "cell_type": "code",
      "metadata": {
        "id": "PYoYpckY5PNd",
        "outputId": "cfce6f29-821f-4d0a-8694-50f58f2f2770"
      },
      "source": [
        "studenci = studenci_slownik.keys()\n",
        "automatyczny_slownik=dict(para for para in enumerate(studenci))\n",
        "print(automatyczny_slownik)"
      ],
      "execution_count": null,
      "outputs": [
        {
          "output_type": "stream",
          "text": [
            "{0: 'Igor', 1: 'Frankek', 2: 'Zosia', 3: 'Julia', 4: 'Cuthulu'}\n"
          ],
          "name": "stdout"
        }
      ]
    },
    {
      "cell_type": "markdown",
      "metadata": {
        "id": "j24g-0Dd-sag"
      },
      "source": [
        "####Wykonywanie operacji na zbiorach"
      ]
    },
    {
      "cell_type": "code",
      "metadata": {
        "id": "C8t-a6Hm5PNd"
      },
      "source": [
        "##### zbiory\n",
        "\n",
        "a={1,2,3,\"Franek\"}\n",
        "b={2,3,4,\"Franek\"}\n"
      ],
      "execution_count": null,
      "outputs": []
    },
    {
      "cell_type": "code",
      "metadata": {
        "id": "hEwPfNpb5PNd",
        "outputId": "44ad9dec-55bf-4ac5-a410-f77c175770bf"
      },
      "source": [
        "a|b #suma zbiorów, sum of sets"
      ],
      "execution_count": null,
      "outputs": [
        {
          "output_type": "execute_result",
          "data": {
            "text/plain": [
              "{1, 2, 3, 4, 'Franek'}"
            ]
          },
          "metadata": {
            "tags": []
          },
          "execution_count": 23
        }
      ]
    },
    {
      "cell_type": "code",
      "metadata": {
        "id": "hPNzUkd-5PNe",
        "outputId": "14912cc0-a1f2-4cc3-87a4-e6a992be4317"
      },
      "source": [
        "a.add(\"Franek\")\n",
        "print(a)"
      ],
      "execution_count": null,
      "outputs": [
        {
          "output_type": "stream",
          "text": [
            "{1, 2, 3, 'Franek'}\n"
          ],
          "name": "stdout"
        }
      ]
    },
    {
      "cell_type": "code",
      "metadata": {
        "id": "MZnEZqzl5PNe",
        "outputId": "8791121f-8bdb-44c7-e406-f7239117f7eb"
      },
      "source": [
        "1 in a\n",
        "\"Igor\" in studenci_slownik"
      ],
      "execution_count": null,
      "outputs": [
        {
          "output_type": "execute_result",
          "data": {
            "text/plain": [
              "True"
            ]
          },
          "metadata": {
            "tags": []
          },
          "execution_count": 25
        }
      ]
    },
    {
      "cell_type": "markdown",
      "metadata": {
        "id": "txMgUOmj5PNe"
      },
      "source": [
        "#### Zapoznanie się z definiowaniem własnych klas"
      ]
    },
    {
      "cell_type": "code",
      "metadata": {
        "id": "XcJtQ57t5PNe"
      },
      "source": [
        "zajecia = [[\"wf\"],\n",
        "           [\"informatyka\", \"nauka czytania\"],\n",
        "           [\"relax\", \"jedzenie\"],\n",
        "           [\"mispy\",\"mispy w domu\"],\n",
        "           [\"piateczek\", \"praca domowa z mispow\", \"Ilovemispy\", \"mispy w czasie snu\"]\n",
        "          ]\n",
        "\n",
        "dnityg= [\"Pon\",\"Wto\",\"Sro\",\"Czwar\",\"Pio\"]\n",
        "\n",
        "def dodaj_dwie_liczby(liczba1,liczba2):\n",
        "    return liczba1+liczba2"
      ],
      "execution_count": null,
      "outputs": []
    },
    {
      "cell_type": "code",
      "metadata": {
        "id": "wT3t_FfV5PNe"
      },
      "source": [
        "class DzienZajec():\n",
        "    \"\"\"obiekt trzymający dany dzień zajęć i przypisane mu metody\"\"\"\n",
        "    \n",
        "    \n",
        "    def __init__(self, lista_na_dany_dzien, nazwa_dnia): #definicja\n",
        "        self.lista_zajec= lista_na_dany_dzien\n",
        "        self.dzien = nazwa_dnia\n",
        "        \n",
        "\n",
        "    \n",
        "    def ile_mispow(self):\n",
        "        ile_m = sum([1 for zajecie in self.lista_zajec if \"misp\" in zajecie.lower()])\n",
        "        return ile_m\n",
        "\n",
        "    @property #zamienia na wlasciwosc   \n",
        "    def ile_zajec(self):\n",
        "        return len(self.lista_zajec)\n",
        "    \n",
        "    def __repr__(self):\n",
        "        zajecia_do_stringa = \", \".join(self.lista_zajec)\n",
        "        return \"W dzien {} mam zajecia: {}\".format(self.dzien, zajecia_do_stringa)\n",
        "    "
      ],
      "execution_count": null,
      "outputs": []
    },
    {
      "cell_type": "code",
      "metadata": {
        "id": "eSx6y1Sq5PNe"
      },
      "source": [
        "pio_zajecia = DzienZajec([\"piateczek\", \"praca domowa z mispow\", \"Ilovemispy\", \"mispy w czasie snu\"],\n",
        "                        \"piatek\")"
      ],
      "execution_count": null,
      "outputs": []
    },
    {
      "cell_type": "code",
      "metadata": {
        "id": "60qLHEIi5PNe",
        "outputId": "48968ba3-6018-4703-d14a-fddca95709c4"
      },
      "source": [
        "pio_zajecia.ile_zajec"
      ],
      "execution_count": null,
      "outputs": [
        {
          "output_type": "execute_result",
          "data": {
            "text/plain": [
              "4"
            ]
          },
          "metadata": {
            "tags": []
          },
          "execution_count": 32
        }
      ]
    },
    {
      "cell_type": "code",
      "metadata": {
        "id": "Abq2kaqs5PNe",
        "outputId": "8105428e-6768-4a12-dcc0-c5ea32f1c1ab"
      },
      "source": [
        "print(pio_zajecia)"
      ],
      "execution_count": null,
      "outputs": [
        {
          "output_type": "stream",
          "text": [
            "W dzien piatek mam zajecia: piateczek, praca domowa z mispow, Ilovemispy, mispy w czasie snu\n"
          ],
          "name": "stdout"
        }
      ]
    },
    {
      "cell_type": "code",
      "metadata": {
        "id": "QNnJjzoy5PNe",
        "outputId": "4c8552bf-91e0-4b3e-f61a-f8fa4dfd9c34"
      },
      "source": [
        "pio_zajecia.lista_zajec"
      ],
      "execution_count": null,
      "outputs": [
        {
          "output_type": "execute_result",
          "data": {
            "text/plain": [
              "['piateczek', 'praca domowa z mispow', 'Ilovemispy', 'mispy w czasie snu']"
            ]
          },
          "metadata": {
            "tags": []
          },
          "execution_count": 33
        }
      ]
    },
    {
      "cell_type": "code",
      "metadata": {
        "id": "GXJ_iWPO5PNe",
        "outputId": "e5bd7a4f-ce42-4fda-eb00-72311c1ee947"
      },
      "source": [
        "pio_zajecia.lista_zajec.append(\"MISP\")\n",
        "print(pio_zajecia.lista_zajec)"
      ],
      "execution_count": null,
      "outputs": [
        {
          "output_type": "stream",
          "text": [
            "['piateczek', 'praca domowa z mispow', 'Ilovemispy', 'mispy w czasie snu', 'MISP']\n"
          ],
          "name": "stdout"
        }
      ]
    },
    {
      "cell_type": "code",
      "metadata": {
        "id": "dr25qUak5PNe",
        "outputId": "9bf0fb1e-4719-4dea-8f0c-34d531d04759"
      },
      "source": [
        "pio_zajecia.ile_mispow()"
      ],
      "execution_count": null,
      "outputs": [
        {
          "output_type": "execute_result",
          "data": {
            "text/plain": [
              "4"
            ]
          },
          "metadata": {
            "tags": []
          },
          "execution_count": 35
        }
      ]
    },
    {
      "cell_type": "code",
      "metadata": {
        "id": "f9nOdQ_65PNe",
        "outputId": "2c7a2db3-f526-45cf-815a-3437c15e0f3a"
      },
      "source": [
        "print(pio_zajecia.lista_zajec)\n"
      ],
      "execution_count": null,
      "outputs": [
        {
          "output_type": "stream",
          "text": [
            "['piateczek', 'praca domowa z mispow', 'Ilovemispy', 'mispy w czasie snu', 'MISP']\n"
          ],
          "name": "stdout"
        }
      ]
    },
    {
      "cell_type": "code",
      "metadata": {
        "id": "pc9M6OOz5PNe",
        "outputId": "a19f25ad-ed9e-44e5-e7bd-699268deda78"
      },
      "source": [
        "pio_zajecia"
      ],
      "execution_count": null,
      "outputs": [
        {
          "output_type": "execute_result",
          "data": {
            "text/plain": [
              "W dzien piatek mam zajecia: piateczek, praca domowa z mispow, Ilovemispy, mispy w czasie snu, MISP"
            ]
          },
          "metadata": {
            "tags": []
          },
          "execution_count": 85
        }
      ]
    },
    {
      "cell_type": "code",
      "metadata": {
        "id": "RegEHCBm5PNe",
        "outputId": "0a622445-2c78-402c-e9db-1eb193fb1c55"
      },
      "source": [
        "print(pio_zajecia.ile_zajec)"
      ],
      "execution_count": null,
      "outputs": [
        {
          "output_type": "stream",
          "text": [
            "5\n"
          ],
          "name": "stdout"
        }
      ]
    },
    {
      "cell_type": "code",
      "metadata": {
        "id": "xmxuAdj85PNe"
      },
      "source": [
        "lista_zajec= [DzienZajec(lista_dzien, dzien) for lista_dzien, dzien in \n",
        "             zip(zajecia,dnityg)]"
      ],
      "execution_count": null,
      "outputs": []
    },
    {
      "cell_type": "code",
      "metadata": {
        "id": "aQjbwSUG5PNe",
        "outputId": "33942b11-5119-48e0-8bd5-2e9d60a314a0"
      },
      "source": [
        "print(lista_zajec)"
      ],
      "execution_count": null,
      "outputs": [
        {
          "output_type": "stream",
          "text": [
            "[W dzien Pon mam zajecia: wf, W dzien Wto mam zajecia: informatyka, nauka czytania, W dzien Sro mam zajecia: relax, jedzenie, W dzien Czwar mam zajecia: mispy, mispy w domu, W dzien Pio mam zajecia: piateczek, praca domowa z mispow, Ilovemispy, mispy w czasie snu]\n"
          ],
          "name": "stdout"
        }
      ]
    },
    {
      "cell_type": "code",
      "metadata": {
        "id": "lYNenUK65PNf"
      },
      "source": [
        "posortowane_po_zajeciach=sorted(lista_zajec, key= lambda zajecie: zajecie.ile_zajec)\n",
        "posortowane_po_mispach=sorted(lista_zajec, key= lambda zajecie: zajecie.ile_mispow())"
      ],
      "execution_count": null,
      "outputs": []
    },
    {
      "cell_type": "code",
      "metadata": {
        "id": "sNHBQshP5PNf",
        "outputId": "48c64e24-ae07-4466-db28-c8dfc7243698"
      },
      "source": [
        "print(posortowane_po_zajeciach)"
      ],
      "execution_count": null,
      "outputs": [
        {
          "output_type": "stream",
          "text": [
            "[W dzien Pon mam zajecia: wf, W dzien Wto mam zajecia: informatyka, nauka czytania, W dzien Sro mam zajecia: relax, jedzenie, W dzien Czwar mam zajecia: mispy, mispy w domu, W dzien Pio mam zajecia: piateczek, praca domowa z mispow, Ilovemispy, mispy w czasie snu]\n"
          ],
          "name": "stdout"
        }
      ]
    },
    {
      "cell_type": "code",
      "metadata": {
        "id": "R6NGBCSj5PNf",
        "outputId": "aed266e6-4494-4b31-e873-7e4a9192ea87"
      },
      "source": [
        "print(posortowane_po_mispach)"
      ],
      "execution_count": null,
      "outputs": [
        {
          "output_type": "stream",
          "text": [
            "[W dzien Pon mam zajecia: wf, W dzien Wto mam zajecia: informatyka, nauka czytania, W dzien Sro mam zajecia: relax, jedzenie, W dzien Czwar mam zajecia: mispy, mispy w domu, W dzien Pio mam zajecia: piateczek, praca domowa z mispow, Ilovemispy, mispy w czasie snu]\n"
          ],
          "name": "stdout"
        }
      ]
    },
    {
      "cell_type": "markdown",
      "metadata": {
        "id": "o91HspEx_wJX"
      },
      "source": [
        ""
      ]
    },
    {
      "cell_type": "markdown",
      "metadata": {
        "id": "PevFx2C65PNf"
      },
      "source": [
        "##**Zadania do rozwiązania**\n",
        "\n",
        "\n",
        "---\n",
        "\n",
        "\n",
        "####Challenge 1\n",
        "\n",
        "Zadanie sprawdzające polegało na stworzeniu typu `NumerTelefonu`, który\n",
        "\n",
        "- przy tworzeniu sprawdza czy podany numer jest właściwy (polski); jeśli nie, wypisuje na ekranie \"Error\":\n",
        "  - przyjęto, że numer jest prawidłowy (polski), jeżeli pierwsze dwie cyfry to `48`, a długość numeru to 9 cyfr. Jeżeli numer nie spełniał wymagań, na ekran wypisywano słowo `Error`.\n",
        " \n",
        "- gdy należy wypisać \"numer\" na ekran, wypisuje po kolei słownie cyfry np. \"jeden, pięć, siedem, zero\":\n",
        "  - stworzono listę zawierającą wszystkie cyfry w kolejności zapisane słownie. Następnie wybierano po kolei cyfry numeru i odczytywano słowo z listy na pozycji równej cyfrze zapisanej liczbowo. Ostatecznie wszystkie wyczytane cyfry sklejano ze sobą i wypisywano\n",
        " \n",
        "- gdy wywoływana jest właściwość \"wojewodzwtwo\", podaje nazwę województwa. Jeżeli numer nie spełnia wymagań bycia numerem z konkretnego województwa, wypisuje że to numer komórkowy:\n",
        "  - stworzono listę nazw miast wojewódzkich i poczatków numerów im odpowiadających. Jeżeli 3 i 4 cyfra numeru były takie same jak początki numeru tóregokolwiek z miast wojewódzkich, ustawiano zmienną `znaleziono_miasto` na 1 i wypisywano nazwę miasta wojewódzkiego. W przeciwnym razie wypisywano słowo \"Komórkowy\".\n",
        " \n",
        " "
      ]
    },
    {
      "cell_type": "code",
      "metadata": {
        "id": "vM0WCbvx5PNf"
      },
      "source": [
        "class NumerTelefonu():\n",
        "    \n",
        "    def __init__(self, num):\n",
        "        self.numer = num\n",
        "        if (self.numer[0]+self.numer[1] == \"48\") and len(self.numer) == 9:\n",
        "            print(\"Prawidlowy numer\")\n",
        "        else:\n",
        "            print(\"Error\")\n",
        "    \n",
        "    @property\n",
        "    def wojewodztwo(self):\n",
        "        znaleziono_miasto = 0\n",
        "        lista_miasto_numer = [[\"Białystok\", \"85\"], [\"Bydgoszcz\", \"52\"], [\"Gdańsk\", \"58\"], [\"Gorzów Wielkopolski\", \"95\"], [\"Katowice\", \"32\"], [\"Kielce\", \"42\"], [\"Kraków\", \"12\"],[\"Lublin\", \"81\"], [\"Łódź\", \"42\"],[\"Olsztyn\", \"89\"], [\"Opole\", \"77\"], [\"Poznań\", \"61\"]]\n",
        "        for i in range(len(lista_miasto_numer)):\n",
        "            if(self.numer[2]+self.numer[3] == lista_miasto_numer[i][1]):\n",
        "                znaleziono_miasto = 1\n",
        "                print(lista_miasto_numer[i][0])\n",
        "        if(znaleziono_miasto == 0):\n",
        "            print(\"Komorkowy\")\n",
        "\n",
        "\n",
        "    \n",
        "    def __repr__(self):\n",
        "        lista_pisemna = [\"zero\", \"jeden\", \"dwa\", \"trzy\", \"cztery\", \"pięć\", \"sześć\", \"siedem\", \"osiem\", \"dziewięć\" ]\n",
        "        lista_nowa = \"\"\n",
        "        for i in range(len(self.numer)):\n",
        "            lista_nowa = lista_nowa + \" \" + lista_pisemna[int(self.numer[i])]\n",
        "        return lista_nowa\n",
        "        \n",
        "        "
      ],
      "execution_count": null,
      "outputs": []
    },
    {
      "cell_type": "markdown",
      "metadata": {
        "id": "dyeU31MHDxIx"
      },
      "source": [
        "Sprawdzenie działania stworzonej klasy"
      ]
    },
    {
      "cell_type": "code",
      "metadata": {
        "id": "ytDOAlX35PNf",
        "outputId": "cda08b83-e87c-4a6c-aa81-cecba617daea"
      },
      "source": [
        "numer = NumerTelefonu(\"489508880\")"
      ],
      "execution_count": null,
      "outputs": [
        {
          "output_type": "stream",
          "text": [
            "Prawidlowy numer\n"
          ],
          "name": "stdout"
        }
      ]
    },
    {
      "cell_type": "code",
      "metadata": {
        "id": "jRzVvZ-e5PNf",
        "outputId": "082e1c46-9bfe-47fd-d725-ab337d0f6473"
      },
      "source": [
        "numer.wojewodztwo"
      ],
      "execution_count": null,
      "outputs": [
        {
          "output_type": "stream",
          "text": [
            "Gorzów Wielkopolski\n"
          ],
          "name": "stdout"
        }
      ]
    },
    {
      "cell_type": "code",
      "metadata": {
        "id": "F-b6G4U35PNf",
        "outputId": "ade277f0-8e17-424b-8ca7-7d20d8d73706"
      },
      "source": [
        "print(numer)"
      ],
      "execution_count": null,
      "outputs": [
        {
          "output_type": "stream",
          "text": [
            " cztery osiem dziewięć pięć zero osiem osiem osiem zero\n"
          ],
          "name": "stdout"
        }
      ]
    },
    {
      "cell_type": "code",
      "metadata": {
        "id": "N2pkOhW_5PNf",
        "outputId": "64bacbd8-2b95-4257-bb33-5fce4661e3b9"
      },
      "source": [
        "# ma na takie rzeczy być w stanie odpowiedzieć\n",
        "\n",
        "\n",
        "\n",
        "numer_lodz = NumerTelefonu(\"426877868\")\n",
        ">>> \"prawidlowy numer\"\n",
        "\n",
        "numer_lodz.wojewodztwo \n",
        ">>> \"Lodz\"\n",
        "\n",
        "print(numer_lodz)\n",
        ">>> \"cztery dwa sześć osiem siedem siedem osiem sześć osiem\""
      ],
      "execution_count": null,
      "outputs": [
        {
          "output_type": "error",
          "ename": "SyntaxError",
          "evalue": "invalid syntax (<ipython-input-156-46f967ae0f3d>, line 6)",
          "traceback": [
            "\u001b[1;36m  File \u001b[1;32m\"<ipython-input-156-46f967ae0f3d>\"\u001b[1;36m, line \u001b[1;32m6\u001b[0m\n\u001b[1;33m    >>> \"prawidlowy numer\"\u001b[0m\n\u001b[1;37m    ^\u001b[0m\n\u001b[1;31mSyntaxError\u001b[0m\u001b[1;31m:\u001b[0m invalid syntax\n"
          ]
        }
      ]
    },
    {
      "cell_type": "code",
      "metadata": {
        "id": "ji61fg1N5PNf"
      },
      "source": [
        ""
      ],
      "execution_count": null,
      "outputs": []
    }
  ]
}