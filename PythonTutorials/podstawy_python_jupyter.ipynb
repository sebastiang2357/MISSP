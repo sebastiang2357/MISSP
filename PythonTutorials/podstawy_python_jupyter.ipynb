{
  "nbformat": 4,
  "nbformat_minor": 0,
  "metadata": {
    "kernelspec": {
      "display_name": "Python 3",
      "language": "python",
      "name": "python3"
    },
    "language_info": {
      "codemirror_mode": {
        "name": "ipython",
        "version": 3
      },
      "file_extension": ".py",
      "mimetype": "text/x-python",
      "name": "python",
      "nbconvert_exporter": "python",
      "pygments_lexer": "ipython3",
      "version": "3.8.3"
    },
    "colab": {
      "name": "podstawy_python_jupyter.ipynb",
      "provenance": []
    }
  },
  "cells": [
    {
      "cell_type": "markdown",
      "metadata": {
        "id": "THPXBQ_PLcD_"
      },
      "source": [
        "#**Zajęcia nr 1**\n",
        "## Podstawy języka Python\n",
        "Na zajęciach omówione oraz pokazane zostały podstawy języka Python. Można było dowiedzieć się m.in. jak wygląda składnia instrukcji warunkowych oraz pętli, a także jak prawidłowo tworzyć funkcje. Ponadto przedstawione zostały rozwiązania np. w tworzeniu funkcji nieobecne w innych do tej pory poznanych językach programowania. Na koniec należało wykonać ćwiczenia podsumowujące zdobytą wiedzę. "
      ]
    },
    {
      "cell_type": "markdown",
      "metadata": {
        "id": "c-Rdbd-eNHS6"
      },
      "source": [
        "##**Przykłady**\n",
        "\n",
        "---\n",
        "\n",
        "\n",
        "####Zapoznanie się z instrukcjami warunkowymi, indeksowaniem oraz pętlami"
      ]
    },
    {
      "cell_type": "code",
      "metadata": {
        "id": "dSj-SnXrKRKY",
        "outputId": "49d7b4f4-d372-4058-8dce-cd5c50d01889"
      },
      "source": [
        "# komentarz\n",
        "\n",
        "# if\n",
        "\n",
        "wielkosc = 5\n",
        "\n",
        "print(wielkosc)"
      ],
      "execution_count": null,
      "outputs": [
        {
          "output_type": "stream",
          "text": [
            "5\n"
          ],
          "name": "stdout"
        }
      ]
    },
    {
      "cell_type": "code",
      "metadata": {
        "id": "uG1roVrzKRKb",
        "outputId": "79659715-d8dc-4fae-b40f-038940f48454"
      },
      "source": [
        "if wielkosc >6:\n",
        "    print(\"ale duze\")\n",
        "elif wielkosc < 3:\n",
        "    print(\"malutkie\")\n",
        "    print('franek')\n",
        "else:\n",
        "    print(\"w sam raz\")"
      ],
      "execution_count": null,
      "outputs": [
        {
          "output_type": "stream",
          "text": [
            "w sam raz\n"
          ],
          "name": "stdout"
        }
      ]
    },
    {
      "cell_type": "code",
      "metadata": {
        "id": "C2XUcNIjKRKb",
        "outputId": "251d105c-5dfe-42c4-9123-a292522d231e"
      },
      "source": [
        "studenci = [\"Ania\", \"Zosia\", \"Kasia\", \"Franek\"]\n",
        "\n",
        "print(studenci)"
      ],
      "execution_count": null,
      "outputs": [
        {
          "output_type": "stream",
          "text": [
            "['Ania', 'Zosia', 'Kasia', 'Franek']\n"
          ],
          "name": "stdout"
        }
      ]
    },
    {
      "cell_type": "code",
      "metadata": {
        "id": "cUg8uJn7KRKc",
        "outputId": "bccc9e66-7f88-4144-d85b-b582c056b745"
      },
      "source": [
        "studenci[0][1]"
      ],
      "execution_count": null,
      "outputs": [
        {
          "output_type": "execute_result",
          "data": {
            "text/plain": [
              "'n'"
            ]
          },
          "metadata": {
            "tags": []
          },
          "execution_count": 4
        }
      ]
    },
    {
      "cell_type": "code",
      "metadata": {
        "scrolled": true,
        "id": "ybQjRmpPKRKc",
        "outputId": "07370f43-954a-4aed-dc69-6d7107bf3aa3"
      },
      "source": [
        "for student in studenci:\n",
        "    print(\"student ma na imie:\", student)\n",
        "    \n",
        "for student in studenci:\n",
        "    print(student)\n",
        "    if student[0]==\"A\":\n",
        "        print(\"student na poczatku alfabetu\")"
      ],
      "execution_count": null,
      "outputs": [
        {
          "output_type": "stream",
          "text": [
            "student ma na imie: Ania\n",
            "student ma na imie: Zosia\n",
            "student ma na imie: Kasia\n",
            "student ma na imie: Franek\n",
            "Ania\n",
            "student na poczatku alfabetu\n",
            "Zosia\n",
            "Kasia\n",
            "Franek\n"
          ],
          "name": "stdout"
        }
      ]
    },
    {
      "cell_type": "code",
      "metadata": {
        "id": "y9CeOvN-KRKc",
        "outputId": "e0e5504e-0359-44a7-a071-c758be718427"
      },
      "source": [
        "for numer, student in enumerate(studenci):\n",
        "    print(\"student {} ma numer {}\".format(student,numer))"
      ],
      "execution_count": null,
      "outputs": [
        {
          "output_type": "stream",
          "text": [
            "student Ania ma numer 0\n",
            "student Zosia ma numer 1\n",
            "student Kasia ma numer 2\n",
            "student Franek ma numer 3\n"
          ],
          "name": "stdout"
        }
      ]
    },
    {
      "cell_type": "code",
      "metadata": {
        "id": "RHFXKH2KKRKc",
        "outputId": "8e0f6865-b9e5-4c77-8462-9950bae3e1c9"
      },
      "source": [
        "oceny = [2,2,5,3]\n",
        "\n",
        "for numer, student in enumerate(studenci):\n",
        "    print(\"student {} ma numer {} i ocenę {}\".format(student,numer,oceny[numer]))\n",
        "\n",
        "print(\"--\"*20)    \n",
        "for number, (student, ocena) in enumerate(zip(studenci,oceny)):\n",
        "    print(\"student {} ma numer {} i ocenę {}\".format(student,number,ocena))"
      ],
      "execution_count": null,
      "outputs": [
        {
          "output_type": "stream",
          "text": [
            "student Ania ma numer 0 i ocenę 2\n",
            "student Zosia ma numer 1 i ocenę 2\n",
            "student Kasia ma numer 2 i ocenę 5\n",
            "student Franek ma numer 3 i ocenę 3\n",
            "----------------------------------------\n",
            "student Ania ma numer 0 i ocenę 2\n",
            "student Zosia ma numer 1 i ocenę 2\n",
            "student Kasia ma numer 2 i ocenę 5\n",
            "student Franek ma numer 3 i ocenę 3\n"
          ],
          "name": "stdout"
        }
      ]
    },
    {
      "cell_type": "code",
      "metadata": {
        "id": "1dsc19FLKRKd"
      },
      "source": [
        "trzy_elementy= [1,2,3]\n",
        "pierwszy,drugi,trzeci= trzy_elementy"
      ],
      "execution_count": null,
      "outputs": []
    },
    {
      "cell_type": "code",
      "metadata": {
        "id": "Yo-LutQvKRKd",
        "outputId": "1e0af67b-3556-4cd6-9a44-b22d11d904ee"
      },
      "source": [
        "n = 1\n",
        "\n",
        "while(n < 10):\n",
        "    print(n)\n",
        "    n+=1"
      ],
      "execution_count": null,
      "outputs": [
        {
          "output_type": "stream",
          "text": [
            "1\n",
            "2\n",
            "3\n",
            "4\n",
            "5\n",
            "6\n",
            "7\n",
            "8\n",
            "9\n"
          ],
          "name": "stdout"
        }
      ]
    },
    {
      "cell_type": "markdown",
      "metadata": {
        "id": "68q4VgTCNPrZ"
      },
      "source": [
        "####Zapoznanie się z metodami tworzenia funkcji w języku Python"
      ]
    },
    {
      "cell_type": "code",
      "metadata": {
        "id": "FNU2Z_SnKRKd",
        "outputId": "f081c9b0-8fde-422a-cb06-06a9cc6efb23"
      },
      "source": [
        "def dodaj_dwa(liczba):\n",
        "    return liczba+2\n",
        "\n",
        "def dodaj_trzy(liczba):\n",
        "    return liczba+3\n",
        "\n",
        "def dodaj_dwie_liczby(liczba1,liczba2)\n",
        "    return liczba1+liczba2\n",
        "\n",
        "\n",
        "dodaj_cztery = lambda liczba:liczba+4"
      ],
      "execution_count": null,
      "outputs": [
        {
          "output_type": "error",
          "ename": "SyntaxError",
          "evalue": "invalid syntax (<ipython-input-10-d79cd408a7f3>, line 7)",
          "traceback": [
            "\u001b[1;36m  File \u001b[1;32m\"<ipython-input-10-d79cd408a7f3>\"\u001b[1;36m, line \u001b[1;32m7\u001b[0m\n\u001b[1;33m    def dodaj_dwie_liczby(liczba1,liczba2)\u001b[0m\n\u001b[1;37m                                          ^\u001b[0m\n\u001b[1;31mSyntaxError\u001b[0m\u001b[1;31m:\u001b[0m invalid syntax\n"
          ]
        }
      ]
    },
    {
      "cell_type": "code",
      "metadata": {
        "id": "dsQqafHnKRKd",
        "outputId": "b2dcee6b-1b84-43b0-b2e2-05609f4c0a5d"
      },
      "source": [
        "funkcje=[dodaj_dwa,dodaj_trzy,dodaj_cztery]\n",
        "\n",
        "jakis_nr= 10\n",
        "\n",
        "for funkcja in funkcje:\n",
        "    print(funkcja(jakis_nr))"
      ],
      "execution_count": null,
      "outputs": [
        {
          "output_type": "error",
          "ename": "NameError",
          "evalue": "name 'dodaj_dwa' is not defined",
          "traceback": [
            "\u001b[1;31m---------------------------------------------------------------------------\u001b[0m",
            "\u001b[1;31mNameError\u001b[0m                                 Traceback (most recent call last)",
            "\u001b[1;32m<ipython-input-11-802bc1a5e1c8>\u001b[0m in \u001b[0;36m<module>\u001b[1;34m\u001b[0m\n\u001b[1;32m----> 1\u001b[1;33m \u001b[0mfunkcje\u001b[0m\u001b[1;33m=\u001b[0m\u001b[1;33m[\u001b[0m\u001b[0mdodaj_dwa\u001b[0m\u001b[1;33m,\u001b[0m\u001b[0mdodaj_trzy\u001b[0m\u001b[1;33m,\u001b[0m\u001b[0mdodaj_cztery\u001b[0m\u001b[1;33m]\u001b[0m\u001b[1;33m\u001b[0m\u001b[1;33m\u001b[0m\u001b[0m\n\u001b[0m\u001b[0;32m      2\u001b[0m \u001b[1;33m\u001b[0m\u001b[0m\n\u001b[0;32m      3\u001b[0m \u001b[0mjakis_nr\u001b[0m\u001b[1;33m=\u001b[0m \u001b[1;36m10\u001b[0m\u001b[1;33m\u001b[0m\u001b[1;33m\u001b[0m\u001b[0m\n\u001b[0;32m      4\u001b[0m \u001b[1;33m\u001b[0m\u001b[0m\n\u001b[0;32m      5\u001b[0m \u001b[1;32mfor\u001b[0m \u001b[0mfunkcja\u001b[0m \u001b[1;32min\u001b[0m \u001b[0mfunkcje\u001b[0m\u001b[1;33m:\u001b[0m\u001b[1;33m\u001b[0m\u001b[1;33m\u001b[0m\u001b[0m\n",
            "\u001b[1;31mNameError\u001b[0m: name 'dodaj_dwa' is not defined"
          ]
        }
      ]
    },
    {
      "cell_type": "code",
      "metadata": {
        "id": "gmpmtkrzKRKd",
        "outputId": "5cfe78dd-a973-4f90-e1f1-ec96290d13d0"
      },
      "source": [
        "studenci[0]\n",
        "studenci[1:]\n",
        "studenci[:-1]"
      ],
      "execution_count": null,
      "outputs": [
        {
          "output_type": "execute_result",
          "data": {
            "text/plain": [
              "['Ania', 'Zosia', 'Kasia']"
            ]
          },
          "metadata": {
            "tags": []
          },
          "execution_count": 12
        }
      ]
    },
    {
      "cell_type": "markdown",
      "metadata": {
        "id": "lRM2ceI_NddZ"
      },
      "source": [
        "##**Zadania do rozwiązania**\n",
        "\n",
        "####Challenge 0.1\n",
        "\n",
        "W tym zadaniu należało wypisać na ekran zajęcia w dwóch wariantach:\n",
        "- te które odpowiadały danemu dniowi tygodnia od środy do piątku\n",
        "- te które odpowiadały danemu dniowi tygodnia bez uwzględniania środy\n",
        "\n",
        "\n"
      ]
    },
    {
      "cell_type": "code",
      "metadata": {
        "id": "PObNljPyKRKe",
        "outputId": "03bfe3b2-42be-42e7-ce09-171bb2136ca5"
      },
      "source": [
        "#### challenge 0.1\n",
        "\n",
        "zajecia = [\"wf\",\"informatyka\",\"relax\",\"mispy\",\"piateczek\"]\n",
        "\n",
        "dnityg= [\"Pon\",\"Wto\",\"Sro\",\"Czwar\",\"Pio\"]\n",
        "\n",
        "for numer_dnia, dzien in enumerate(dnityg): #dodawanie numeru do elementu listy dnityg\n",
        "    if((numer_dnia >= 2) & (numer_dnia < 5)): #jezeli numer dnia odpowiada przedzialowi sroda - piatek\n",
        "        print(zajecia[numer_dnia]) #wypisz zajecia \n",
        "        \n",
        "print(5*'---') #oddzielenie\n",
        "        \n",
        "for numer_dnia, dzien in enumerate(dnityg): #dodawanie numeru do elementu listy dnityg\n",
        "    if(numer_dnia != 2): #jezeli numer dnia nie odpowiada srodzie\n",
        "        print(zajecia[numer_dnia]) #wypisz zajecia \n"
      ],
      "execution_count": null,
      "outputs": [
        {
          "output_type": "stream",
          "text": [
            "relax\n",
            "mispy\n",
            "piateczek\n",
            "---------------\n",
            "wf\n",
            "informatyka\n",
            "mispy\n",
            "piateczek\n"
          ],
          "name": "stdout"
        }
      ]
    },
    {
      "cell_type": "markdown",
      "metadata": {
        "id": "uRC96sIJPMNa"
      },
      "source": [
        "####Challenge 0.2\n",
        "\n",
        "W zadaniu 2 należało zrelizować następujące podpunkty:\n",
        "- stworzenie funkcji, której argumentem był dzień tygodnia, która w odpowiedzi wyświetliła ilość zajęć odbywających się w danym dniu\n",
        "- posortowanie dni tygodnia od najmniej do najbardziej zajętych\n"
      ]
    },
    {
      "cell_type": "code",
      "metadata": {
        "id": "xv9yW7SMKRKe",
        "outputId": "1cfd4824-70d7-4be0-b861-b4fe4726d9fa"
      },
      "source": [
        "#### challenge 0.2\n",
        "\n",
        "zajecia = [[\"wf\"],\n",
        "           [\"informatyka\", \"nauka czytania\"],\n",
        "           [\"relax\", \"jedzenie\"],\n",
        "           [\"mispy\",\"mispy w domu\"],\n",
        "           [\"piateczek\", \"praca domowa z mispow\", \"Ilovemispy\", \"mispy w czasie snu\"]\n",
        "          ]\n",
        "\n",
        "dnityg= [\"Pon\",\"Wto\",\"Sro\",\"Czwar\",\"Pio\"]\n",
        "\n",
        "\n",
        "def ile_zajec (lista_zajec_z_dnia): #definicja funkcji przyjmujacej za argument liste z listy zajecia\n",
        "    return len(lista_zajec_z_dnia) #zwroc dlugosc listy z listy zajecia\n",
        "\n",
        "print(\"Test funkcji\") #test funkcji\n",
        "\n",
        "for i in range(len(dnityg)): #dla i w przedziale 0 - 4 czyli ilosci dni tygodnia\n",
        "    print(ile_zajec(zajecia[i])) #wypisz ile zajec jest w danym dniu\n",
        "\n",
        "#utworzenie listy z iloscia zajec\n",
        "lista = [] #utworz liste zawierajaca ilosc zajec w kazdym dniu\n",
        "indeks = [] #utworz liste odpowiadajaca indeksowi elementu w liscie\n",
        "for i in range(len(zajecia)): #dla i od 0 do dlugosci listy zajecia - 1\n",
        "    lista.append(ile_zajec(zajecia[i])) #dodaj element na ostatnia pozycje listy lista zawierajacy ilosc przedmiotow w danym dniu\n",
        "    indeks.append(i) #dodaj element na ostatnia pozycje odpowiadajcy indeksowi\n",
        "\n",
        "#sortowanie babelkowe    \n",
        "    \n",
        "for i in range(len(lista)): #dla i od 0 do dlugosci listy z iloscia zajec\n",
        "    for j in range(len(lista) - 1): #dla j od 0 do dlugosci listy z iloscia zajec - 1\n",
        "        if lista[j] < lista[j + 1]: #jezeli element o indeksie wczesniejszym jest mniejszy od elementu o indeksie nastepnym\n",
        "            lista[j], lista[j + 1] = lista[j + 1], lista[j] #zamien miejscami w liscie oba elementy\n",
        "            indeks[j], indeks[j + 1] = indeks[j + 1], indeks[j] #zamien takze indeks znajdujacy sie w liscie\n",
        "\n",
        "\n"
      ],
      "execution_count": null,
      "outputs": [
        {
          "output_type": "stream",
          "text": [
            "Test funkcji\n",
            "1\n",
            "2\n",
            "2\n",
            "2\n",
            "4\n",
            "Pio 3\n"
          ],
          "name": "stdout"
        }
      ]
    },
    {
      "cell_type": "markdown",
      "metadata": {
        "id": "NawWCorGRA75"
      },
      "source": [
        "#### Challenge 0.3\n",
        "Ostatnim zadaniem było napisanie programu, który w podanej liście znajduje dzień tygodnia, w którym jak najwięcej nazw zajęć zawiera słowo 'misp'."
      ]
    },
    {
      "cell_type": "code",
      "metadata": {
        "id": "dsDOst4vQygd"
      },
      "source": [
        "#### challenge 0.3\n",
        "\n",
        "# napisz program ktory zdajdzie dzien z najwieksza iloscia mispow\n",
        "\n",
        "licznik_misp = 0 #stworzenie zmiennej licznik_misp ktora bedzie odpowiadala za zliczanie slow misp\n",
        "licznik_najlepszy = 0 #stworzenie zmiennej ktora przechowa najwieksza wartosc licznik_misp\n",
        "numer_dnia = 0 #zmienna numer_dnia bedzie zawierac informacje o numerze dnia, w ktorym jest najwiecej mispow\n",
        "   \n",
        "for i in (range(len(zajecia))): #dla i od 0 do ilosci list w liscie zajecia - 1\n",
        "    for j in range(len(zajecia[i])): #dla j od 0 do dlugosci kazdej z list w liscie zajecia \n",
        "        if \"misp\" in zajecia[i][j]: #jezeli slowo \"misp\" znajduje sie w jednym z elementow kazdej z listy\n",
        "            licznik_misp += 1 #zwieksz licznik_misp o 1\n",
        "            if licznik_misp > licznik_najlepszy: #jezeli licznik_misp okaze sie wiekszy od znalezionego najwiekszego do tej pory wyniku\n",
        "                licznik_najlepszy = licznik_misp #ustaw licznik_najlepszy na ostatni licznik_misp\n",
        "                numer_dnia = i #zapamietaj numer dnia w zmiennej numer_dnia\n",
        "    \n",
        "    licznik_misp = 0 #wyzeruj zmienna licznik_misp dla kolejnej iteracji\n",
        "print(dnityg[numer_dnia], licznik_najlepszy) #wypisz nazwe dnia dla numeru dnia o najwiekszej ilosci mispow oraz ile mispow znaleziono\n",
        "    "
      ],
      "execution_count": null,
      "outputs": []
    },
    {
      "cell_type": "markdown",
      "metadata": {
        "id": "U8r2EXPoSQVg"
      },
      "source": [
        "### **Przykłady dodatkowe** \n",
        "\n",
        "Ukazano tu możliwości działania na krotkach "
      ]
    },
    {
      "cell_type": "code",
      "metadata": {
        "id": "QRWjF5rXKRKe",
        "outputId": "9542ae6b-49c0-486a-963c-77a6997a6096"
      },
      "source": [
        "len(zajecia)\n",
        "\n",
        "zajecia[4][1]\n",
        "\n",
        "\"Ma\" in \"MojaMaMa\"\n",
        "\n",
        "liczby=[\"22\",\"11\",\"33\",\"100\"]\n",
        "liczby_i_nazwy= [(\"22\",\"dwadziescia dwa\"),\n",
        "                 (\"11\",\"jedenascie\"),\n",
        "        (\"33\",\"trzydziesci trzy\"),(\"100\",\"sto\")]\n",
        "sorted(liczby)\n",
        "\n",
        "sorted(liczby, key=int)\n",
        "\n",
        "liczby_kolejnosc= enumerate(liczby)\n",
        "\n",
        "def czy_jest_jeden(liczba):\n",
        "\n",
        "    if \"1\" in liczba:\n",
        "        return 1\n",
        "    else:\n",
        "        return 0\n",
        "def na_liczbe(krotka):\n",
        "         return int(krotka[0])\n",
        "def na_liczbe_index(krotka):\n",
        "         return int(krotka[1])    \n",
        "sorted(liczby, key=czy_jest_jeden)\n",
        "         \n",
        "sorted(liczby_i_nazwy,key=na_liczbe)\n",
        "\n",
        "sorted(liczby_kolejnosc,key=na_liczbe_index)"
      ],
      "execution_count": null,
      "outputs": [
        {
          "output_type": "execute_result",
          "data": {
            "text/plain": [
              "[(1, '11'), (0, '22'), (2, '33'), (3, '100')]"
            ]
          },
          "metadata": {
            "tags": []
          },
          "execution_count": 5
        }
      ]
    },
    {
      "cell_type": "code",
      "metadata": {
        "id": "u4GP7qL4KRKe",
        "outputId": "3670b893-ea6e-4e67-9b64-47fa4f404d10"
      },
      "source": [
        "sorted(liczby_kolejnosc,key=)"
      ],
      "execution_count": null,
      "outputs": [
        {
          "output_type": "execute_result",
          "data": {
            "text/plain": [
              "<enumerate at 0x7f5efea012d0>"
            ]
          },
          "metadata": {
            "tags": []
          },
          "execution_count": 48
        }
      ]
    },
    {
      "cell_type": "code",
      "metadata": {
        "id": "0dzU1U6hKRKe",
        "outputId": "1ed5f7a2-498d-473d-915e-43a57f32ff63"
      },
      "source": [
        ""
      ],
      "execution_count": null,
      "outputs": [
        {
          "output_type": "execute_result",
          "data": {
            "text/plain": [
              "['100', '11', '22', '33']"
            ]
          },
          "metadata": {
            "tags": []
          },
          "execution_count": 8
        }
      ]
    },
    {
      "cell_type": "code",
      "metadata": {
        "id": "6N-0e9hzKRKe"
      },
      "source": [
        ""
      ],
      "execution_count": null,
      "outputs": []
    }
  ]
}